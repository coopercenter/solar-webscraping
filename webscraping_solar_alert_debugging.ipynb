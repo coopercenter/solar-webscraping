{
 "cells": [
  {
   "cell_type": "code",
   "execution_count": 1,
   "metadata": {},
   "outputs": [
    {
     "data": {
      "text/plain": [
       "'Firefox Version'"
      ]
     },
     "execution_count": 1,
     "metadata": {},
     "output_type": "execute_result"
    }
   ],
   "source": [
    "\"\"\"Package Loading\"\"\"\n",
    "\"\"\"General\"\"\"\n",
    "from webscraping_dictionaries import *\n",
    "from webscraping_functions import *\n",
    "#from email.mime.text import MIMEText\n",
    "#from email.mime.multipart import MIMEMultipart\n",
    "\"\"\"Chrome Options\"\"\"\n",
    "#from selenium.webdriver import Chrome \n",
    "#from selenium.webdriver.chrome.service import Service \n",
    "#from webdriver_manager.chrome import ChromeDriverManager\n",
    "\n",
    "\"\"\"Firefox Options\"\"\"\n",
    "#from selenium.webdriver import Firefox\n",
    "#from selenium.webdriver.firefox.service import Service\n",
    "#from webdriver_manager.firefox import GeckoDriverManager\n",
    "\n",
    "\n",
    "\"\"\"Initialize the driver\"\"\"\n",
    "\n",
    "\"\"\"Driver Setup\"\"\"\n",
    "\n",
    "#following steps from here: https://www.zenrows.com/blog/scraping-javascript-rendered-web-pages#installing-the-requirements\n",
    "#critical help using the click method from here https://www.geeksforgeeks.org/click-element-method-selenium-python/\n",
    "\n",
    "\"\"\"Chrome Version\"\"\"\n",
    "#options = webdriver.ChromeOptions()\n",
    "#options.headless = True\n",
    "#options.page_load_strategy = 'none' \n",
    "#chrome_path = ChromeDriverManager().install()\n",
    "#chrome_service = Service(chrome_path)\n",
    "#driver = Chrome(options=options, service=chrome_service) \n",
    "#driver.implicitly_wait(5)\n",
    "\n",
    "\"\"\"Firefox Version\"\"\"  \n",
    "#options = webdriver.FirefoxOptions()\n",
    "#options.headless = True\n",
    "#options.add_argument(\"--headless=new\")\n",
    "#options.page_load_strategy = 'none' \n",
    "#firefox_path = GeckoDriverManager().install() \n",
    "#firefox_service = Service(firefox_path)\n",
    "#driver = Firefox(options=options, service=firefox_service)\n",
    "#driver.implicitly_wait(5)"
   ]
  },
  {
   "cell_type": "markdown",
   "metadata": {},
   "source": [
    "\"\"\"DEBUGGING SANDBOX\"\"\""
   ]
  },
  {
   "cell_type": "code",
   "execution_count": null,
   "metadata": {},
   "outputs": [],
   "source": [
    "#table this for now, since we still want to check for comp plan and ordinance keywords anyway\n",
    "\"Charlotte County Solar Development Page\"\n",
    "def charlotte_county_solar_development():\n",
    "    driver.get(\"https://www.charlottecountyva.gov/departments/planning___zoning/solar_development.php\")\n",
    "    time.sleep(1)\n",
    "    table_rows = driver.find_elements(By.CSS_SELECTOR,\"tr\")\n"
   ]
  },
  {
   "cell_type": "code",
   "execution_count": null,
   "metadata": {},
   "outputs": [],
   "source": [
    "New_Alerts = []\n",
    "\n",
    "\"Run all the webscraping functions, single thread version\"\n",
    "for locality in agendacenter_dictionary:\n",
    "    try:\n",
    "        alert = agendacenter(locality)\n",
    "        if alert != []:\n",
    "            New_Alerts.append(\", \\n \".join(alert))\n",
    "    except:\n",
    "        error_alert = \"Error webscraping \" + item + \" using AgendaCenter code.\"\n",
    "        New_Alerts.append(error_alert)\n",
    "        continue\n",
    "            \n",
    "for item in boarddocs_dictionary:\n",
    "    try:\n",
    "        alert = boarddocs(boarddocs_dictionary[item][0],boarddocs_dictionary[item][1],boarddocs_dictionary[item][2])\n",
    "        if alert != []:\n",
    "            New_Alerts.append(\", \\n \".join(alert))\n",
    "    except:\n",
    "        error_alert = \"Error webscraping \" + item + \" using BoardDocs code.\"\n",
    "        New_Alerts.append(\"\\n\" + error_alert)\n",
    "        continue\n",
    "\n",
    "for item in civicclerk_dictionary:\n",
    "    try:\n",
    "        alert=civicclerk(civicclerk_dictionary[item][0],civicclerk_dictionary[item][1])\n",
    "        if alert != []:\n",
    "            New_Alerts.append(\", \\n \".join(alert))\n",
    "    except:\n",
    "        error_alert=\"Error webscraping \" + item + \" using CivicClerk code\"\n",
    "        New_Alerts.append(error_alert)\n",
    "        continue\n",
    "        \n",
    "for item in civicweb_dictionary:\n",
    "    try:\n",
    "        alert=civicweb(civicweb_dictionary[item][0],civicweb_dictionary[item][1])\n",
    "        if alert != []:\n",
    "            New_Alerts.append(\", \\n \".join(alert))\n",
    "    except:\n",
    "        error_alert=\"Error webscraping \" + item + \" using CivicWeb code\"\n",
    "        New_Alerts.append(error_alert)\n",
    "        continue\n",
    "        \n",
    "for item in document_center_dictionary:\n",
    "    try:\n",
    "        alert=document_center(document_center_dictionary[item][0],document_center_dictionary[item][1])\n",
    "        if alert != []:\n",
    "            New_Alerts.append(\", \\n \".join(alert))\n",
    "    except:\n",
    "        error_alert=\"Error webscraping \" + item + \" using Document Center code\"\n",
    "        New_Alerts.append(error_alert)\n",
    "        continue\n",
    "\n",
    "for item in escribe_dictionary:\n",
    "    try:\n",
    "        alert=escribe(escribe_dictionary[item][0],escribe_dictionary[item][1])\n",
    "        if alert != []:\n",
    "            New_Alerts.append(\", \\n \".join(alert))\n",
    "    except:\n",
    "        error_alert=\"Error webscraping \" + item + \" using EScribe code\"\n",
    "        New_Alerts.append(error_alert)\n",
    "        continue\n",
    "\n",
    "for item in granicus_dictionary:\n",
    "    try:\n",
    "        alert = granicus(granicus_dictionary[item][0],granicus_dictionary[item][1])\n",
    "        if alert != []:\n",
    "            New_Alerts.append(\", \\n \".join(alert))\n",
    "    except:\n",
    "        error_alert = \"Error webscraping \" + item + \" using Granicus code\"\n",
    "        New_Alerts.append(error_alert)\n",
    "        continue\n",
    "        \n",
    "for item in granicus_2_dictionary:\n",
    "    try:\n",
    "        alert = granicus_version_2(granicus_2_dictionary[item][0],granicus_2_dictionary[item][1])\n",
    "        if alert != []:\n",
    "            New_Alerts.append(\", \\n \".join(alert))\n",
    "    except:\n",
    "        error_alert = \"Error webscraping \" + item + \" using Granicus Version 2 code\"\n",
    "        New_Alerts.append(error_alert)\n",
    "        continue\n",
    "\n",
    "for item in laserfiche_dictionary:\n",
    "    try:\n",
    "        alert=laserfiche(laserfiche_dictionary[item][0],laserfiche_dictionary[item][1])\n",
    "        if alert != []:\n",
    "            New_Alerts.append(\", \\n \".join(alert))\n",
    "    except:\n",
    "        error_alert=\"Error webscraping \" + item + \" using LaserFiche code\"\n",
    "        New_Alerts.append(error_alert)\n",
    "        continue\n",
    "\n",
    "for item in legistar_dictionary:\n",
    "    try:\n",
    "        alert=legistar(legistar_dictionary[item][0],legistar_dictionary[item][1])\n",
    "        if alert != []:\n",
    "            New_Alerts.append(\", \\n \".join(alert))\n",
    "    except:\n",
    "        error_alert=\"Error webscraping \" + item + \" using Legistar code\"\n",
    "        New_Alerts.append(error_alert)\n",
    "        continue\n",
    "\n",
    "for item in meetingstable_dictionary:\n",
    "    try:\n",
    "        alert=meetings_table(meetingstable_dictionary[item][0],meetingstable_dictionary[item][1])\n",
    "        if alert != []:\n",
    "            New_Alerts.append(\", \\n \".join(alert))\n",
    "    except:\n",
    "        error_alert=\"Error webscraping \" + item + \" using MeetingsTable code\"\n",
    "        New_Alerts.append(error_alert)\n",
    "        continue\n",
    "\n",
    "for item in novusagenda_dictionary:\n",
    "    try:\n",
    "        alert=novusagenda(novusagenda_dictionary[item][0],novusagenda_dictionary[item][1])\n",
    "        if alert != []:\n",
    "            New_Alerts.append(\", \\n \".join(alert))\n",
    "    except:\n",
    "        error_alert=\"Error webscraping \" + item + \" using NovusAGENDA code\"\n",
    "        New_Alerts.append(error_alert)\n",
    "        continue\n",
    "\n",
    "for item in onbase_dictionary:\n",
    "    try:\n",
    "        alert=onbase(onbase_dictionary[item][0],onbase_dictionary[item][1])\n",
    "        if alert != []:\n",
    "            New_Alerts.append(\", \\n \".join(alert))\n",
    "    except:\n",
    "        error_alert=\"Error webscraping \" + item + \" using OnBase code\"\n",
    "        New_Alerts.append(error_alert)\n",
    "        continue\n",
    "\n",
    "for item in primegov_dictionary:\n",
    "    try:\n",
    "        alert=prime_gov(primegov_dictionary[item][0],primegov_dictionary[item][1])\n",
    "        if alert != []:\n",
    "            New_Alerts.append(\", \\n \".join(alert))\n",
    "    except:\n",
    "        error_alert=\"Error webscraping \" + item + \" using PrimeGov code\"\n",
    "        New_Alerts.append(error_alert)\n",
    "        continue\n",
    "\n",
    "for item in php_table_dictionary:\n",
    "    try:\n",
    "        alert=php_table(php_table_dictionary[item][0],php_table_dictionary[item][1])\n",
    "        if alert != []:\n",
    "            New_Alerts.append(\", \\n \".join(alert))\n",
    "    except:\n",
    "        error_alert=\"Error webscraping \" + item + \" using PHP Table code\"\n",
    "        New_Alerts.append(error_alert)\n",
    "        continue\n",
    "\n",
    "for item in county_dictionary_single_variable:\n",
    "    try:\n",
    "        alert=county_dictionary_single_variable[item][0](county_dictionary_single_variable[item][1])\n",
    "        if alert != []:\n",
    "            New_Alerts.append(\", \\n \".join(alert))\n",
    "    except:\n",
    "        error_alert = \"Error webscraping \" + item\n",
    "        New_Alerts.append(error_alert)\n",
    "        continue\n",
    "\n",
    "for item in county_dictionary_double_variable:\n",
    "    try:\n",
    "        alert=county_dictionary_double_variable[item][0](county_dictionary_double_variable[item][1],county_dictionary_double_variable[item][2])\n",
    "        if alert != []:\n",
    "            New_Alerts.append(\", \\n \".join(alert))\n",
    "    except:\n",
    "        error_alert = \"Error webscraping \" + item\n",
    "        New_Alerts.append(error_alert)\n",
    "        continue\n",
    "\n",
    "for item in city_dictionary_single_variable:\n",
    "    try:\n",
    "        alert=city_dictionary_single_variable[item][0](city_dictionary_single_variable[item][1])\n",
    "        if alert != []:\n",
    "            New_Alerts.append(\", \\n \".join(alert))\n",
    "    except:\n",
    "        error_alert = \"Error webscraping \" + item\n",
    "        New_Alerts.append(error_alert)\n",
    "        continue\n",
    "\n",
    "for item in city_dictionary_double_variable:\n",
    "    try:\n",
    "        alert=city_dictionary_double_variable[item][0](city_dictionary_double_variable[item][1],city_dictionary_double_variable[item][2])\n",
    "        if alert != []:\n",
    "            New_Alerts.append(\", \\n \".join(alert))\n",
    "    except:\n",
    "        error_alert = \"Error webscraping \" + item\n",
    "        New_Alerts.append(error_alert)\n",
    "        continue"
   ]
  },
  {
   "cell_type": "code",
   "execution_count": null,
   "metadata": {},
   "outputs": [],
   "source": [
    "for item in New_Alerts:\n",
    "    print(item)"
   ]
  },
  {
   "cell_type": "code",
   "execution_count": null,
   "metadata": {},
   "outputs": [],
   "source": [
    "#empty list \n",
    "Solar_Alerts = []\n",
    "Error_Alerts = []\n",
    "Unreadable_File_Alerts = []\n",
    "Other_Alerts = []\n",
    "\n",
    "#loop that checks if the word in the meeting agenda is in the list of keywords...if that happens, append to empty list\n",
    "for message in New_Alerts:\n",
    "    if \"Solar\" in message:\n",
    "        Solar_Alerts.append(message)\n",
    "    elif \"Error\" in message or \"Not Reachable\" in message:\n",
    "        Error_Alerts.append(message)\n",
    "    elif \"scanned\" in message:\n",
    "        Unreadable_File_Alerts.append(message)\n",
    "    else:\n",
    "        Other_Alerts.append(message)\n",
    "\n",
    "# Convert categorized alerts to strings\n",
    "solar_alerts_str = \", \\n\".join(Solar_Alerts)\n",
    "error_alerts_str = \", \\n\".join(Error_Alerts)\n",
    "unread_alerts_str = \", \\n\".join(Unreadable_File_Alerts)\n",
    "other_alerts_str = \", \\n\".join(Other_Alerts)\n"
   ]
  },
  {
   "cell_type": "code",
   "execution_count": null,
   "metadata": {},
   "outputs": [],
   "source": [
    "alerts = (\"Solar Alerts:\\n\" + solar_alerts_str + \"\\n\\nUnreadable Alerts: \\n\" + unread_alerts_str + \"\\n\\nError Alerts:\\n\" + error_alerts_str + \"\\n\\nOther Alerts:\\n\" + other_alerts_str)"
   ]
  },
  {
   "cell_type": "code",
   "execution_count": null,
   "metadata": {},
   "outputs": [],
   "source": [
    "print(alerts)"
   ]
  },
  {
   "cell_type": "code",
   "execution_count": null,
   "metadata": {},
   "outputs": [],
   "source": [
    "#come back to this another day\n",
    "all_dictionaries=[agendacenter_dictionary,boarddocs_dictionary,civicclerk_dictionary,civicweb_dictionary,document_center_dictionary,escribe_dictionary,granicus_dictionary,granicus_2_dictionary,laserfiche_dictionary,legistar_dictionary,meetingstable_dictionary,novusagenda_dictionary,php_table_dictionary,primegov_dictionary,county_dictionary_single_variable,county_dictionary_double_variable,city_dictionary_single_variable,city_dictionary_double_variable]\n",
    "\n",
    "for dictionary in all_dictionaries:\n",
    "    for entry in dictionary:\n",
    "        print(entry)"
   ]
  },
  {
   "cell_type": "code",
   "execution_count": null,
   "metadata": {},
   "outputs": [],
   "source": [
    "#reconfiguring how the scraping methods work\n",
    "#leverage object oriented programming and the possibilities of functions\n",
    "#currently, each website has its own custom function, and the repeated document sharing websites have their own customized function as well\n",
    "#few repeated functions despite potential for more, and for better generalization\n",
    "#inconsistent methodoloy that evolved over time as I kept remaking the functions from scratch\n",
    "#potential to take the common steps and turn those into functions rather than having them rewritten dozens of times\n",
    "#opportunities to keep optimizing"
   ]
  },
  {
   "cell_type": "code",
   "execution_count": null,
   "metadata": {},
   "outputs": [],
   "source": [
    "\"\"\"AgendaCenter\"\"\"\n",
    "def agendacenter(locality):\n",
    "    driver.get(agendacenter_dictionary[locality][0])\n",
    "    time.sleep(5)\n",
    "    table_rows = driver.find_elements(By.CSS_SELECTOR, meetings_tags['agendacenter'])\n",
    "    future_meetings = [item for item in table_rows if check_meeting_date(search_dates(item.text,languages=['en'])[0][0])==True]\n",
    "    agenda_links = [item.find_elements(By.CSS_SELECTOR,\"a\")[1].get_attribute(\"href\") for item in future_meetings]\n",
    "    messages = search_pdf(agenda_links,locality)\n",
    "    return messages"
   ]
  },
  {
   "cell_type": "code",
   "execution_count": 5,
   "metadata": {},
   "outputs": [],
   "source": [
    "driver.get(\"https://www.waynesboro.va.us/AgendaCenter/Search/?term=&CIDs=7,1,4,&startDate=&endDate=&dateRange=&dateSelector=\")"
   ]
  },
  {
   "cell_type": "code",
   "execution_count": 6,
   "metadata": {},
   "outputs": [],
   "source": [
    "table_rows = driver.find_elements(By.CSS_SELECTOR, meetings_tags['agendacenter'])"
   ]
  },
  {
   "cell_type": "code",
   "execution_count": 176,
   "metadata": {},
   "outputs": [
    {
     "data": {
      "text/plain": [
       "False"
      ]
     },
     "execution_count": 176,
     "metadata": {},
     "output_type": "execute_result"
    }
   ],
   "source": [
    "check_meeting_date(search_dates(table_rows[0].text,languages=['en'])[0][0])"
   ]
  },
  {
   "cell_type": "code",
   "execution_count": 177,
   "metadata": {},
   "outputs": [],
   "source": [
    "future_meetings = [item for item in table_rows if check_meeting_date(search_dates(item.text,languages=['en'])[0][0])==True]"
   ]
  },
  {
   "cell_type": "code",
   "execution_count": 178,
   "metadata": {},
   "outputs": [],
   "source": [
    "agenda_links = [item.find_elements(By.CSS_SELECTOR,\"a\")[1].get_attribute(\"href\") for item in future_meetings]"
   ]
  },
  {
   "cell_type": "code",
   "execution_count": 179,
   "metadata": {},
   "outputs": [
    {
     "data": {
      "text/plain": [
       "[]"
      ]
     },
     "execution_count": 179,
     "metadata": {},
     "output_type": "execute_result"
    }
   ],
   "source": [
    "agenda_links"
   ]
  },
  {
   "cell_type": "code",
   "execution_count": 172,
   "metadata": {},
   "outputs": [
    {
     "data": {
      "text/plain": [
       "['Keyword(s) Comprehensive Plan, Solar found in upcoming meeting for City of Suffolk. https://www.suffolkva.us/AgendaCenter/ViewFile/Agenda/_12172024-3425']"
      ]
     },
     "execution_count": 172,
     "metadata": {},
     "output_type": "execute_result"
    }
   ],
   "source": [
    "search_pdf([agenda_links[0]],\"City of Suffolk\")"
   ]
  },
  {
   "cell_type": "code",
   "execution_count": null,
   "metadata": {},
   "outputs": [],
   "source": [
    "#AgendaCenter Strategy:\n",
    "\"\"\"\n",
    "* = I should make this a function\n",
    "\n",
    "1: *navigate to the locality archives url\n",
    "2: *wait for the page to load enough for the desired content to appear\n",
    "3: create the empty messages list\n",
    "4: locate the rows of meeting titles\n",
    "5: filter for meetings happening in the future\n",
    "    5a: two common string formats with AgendaCenter, need to split the date string or it throws an error (search for a package or class or function that does this automatically)\n",
    "6: collect the links for the agendas for future meetings out of the meeting information rows\n",
    "7: go through each agenda link \n",
    "    7a: *navigate to the agenda url\n",
    "    7b: *wait for the content to load\n",
    "    7c: collect the content tags (the page-by-page PDF search for content that loads on scroll should be part of this)\n",
    "        7c1: if the textLayer tag doesn't exist, it's probably a web page not a PDF, and collect this commonly used webpage content tag instead\n",
    "    7d: for a PDF, check that there is text in the content tags, otherwise it's likely an unsearchable scan\n",
    "        7d1: if there is text in the content tags, search the text for the specified keywords\n",
    "        7d2: if the search result is not empty, add an alert message and provide the agenda url\n",
    "    7e: if there is no text in the content tags, provide an \"unreadable\" messaage and a link to the agenda for manual review\n",
    "8: return any alert messages\n",
    "\"\"\"\n",
    "\n",
    "\n"
   ]
  }
 ],
 "metadata": {
  "kernelspec": {
   "display_name": "Python 3",
   "language": "python",
   "name": "python3"
  },
  "language_info": {
   "codemirror_mode": {
    "name": "ipython",
    "version": 3
   },
   "file_extension": ".py",
   "mimetype": "text/x-python",
   "name": "python",
   "nbconvert_exporter": "python",
   "pygments_lexer": "ipython3",
   "version": "3.12.7"
  },
  "orig_nbformat": 4,
  "vscode": {
   "interpreter": {
    "hash": "41f4603e9ae2ea2a4ec02893be2c0f3b30baca65be1064668a2659ea9f4f6da5"
   }
  }
 },
 "nbformat": 4,
 "nbformat_minor": 2
}
