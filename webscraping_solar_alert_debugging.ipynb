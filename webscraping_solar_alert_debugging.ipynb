{
 "cells": [
  {
   "cell_type": "code",
   "execution_count": 1,
   "metadata": {},
   "outputs": [
    {
     "data": {
      "text/plain": [
       "'Firefox Version'"
      ]
     },
     "execution_count": 1,
     "metadata": {},
     "output_type": "execute_result"
    }
   ],
   "source": [
    "\"\"\"Package Loading\"\"\"\n",
    "\"\"\"General\"\"\"\n",
    "from webscraping_dictionaries import *\n",
    "from webscraping_functions import *\n",
    "import time\n",
    "from dateutil import relativedelta\n",
    "from datetime import datetime\n",
    "from selenium import webdriver\n",
    "from selenium.webdriver.common.by import By  \n",
    "import requests\n",
    "import smtplib\n",
    "from email.mime.text import MIMEText\n",
    "from email.mime.multipart import MIMEMultipart\n",
    "import ssl\n",
    "import os\n",
    "#import dotenv\n",
    "\"\"\"Chrome Options\"\"\"\n",
    "#from selenium.webdriver import Chrome \n",
    "#from selenium.webdriver.chrome.service import Service \n",
    "#from webdriver_manager.chrome import ChromeDriverManager\n",
    "\n",
    "\"\"\"Firefox Options\"\"\"\n",
    "#from selenium.webdriver import Firefox\n",
    "#from selenium.webdriver.firefox.service import Service\n",
    "#from webdriver_manager.firefox import GeckoDriverManager\n",
    "\n",
    "\n",
    "\"\"\"Initialize the driver\"\"\"\n",
    "\n",
    "\"\"\"Driver Setup\"\"\"\n",
    "\n",
    "#following steps from here: https://www.zenrows.com/blog/scraping-javascript-rendered-web-pages#installing-the-requirements\n",
    "#critical help using the click method from here https://www.geeksforgeeks.org/click-element-method-selenium-python/\n",
    "\n",
    "\"\"\"Chrome Version\"\"\"\n",
    "#options = webdriver.ChromeOptions()\n",
    "#options.headless = True\n",
    "#options.page_load_strategy = 'none' \n",
    "#chrome_path = ChromeDriverManager().install()\n",
    "#chrome_service = Service(chrome_path)\n",
    "#driver = Chrome(options=options, service=chrome_service) \n",
    "#driver.implicitly_wait(5)\n",
    "\n",
    "\"\"\"Firefox Version\"\"\"  \n",
    "#options = webdriver.FirefoxOptions()\n",
    "#options.headless = True\n",
    "#options.add_argument(\"--headless=new\")\n",
    "#options.page_load_strategy = 'none' \n",
    "#firefox_path = GeckoDriverManager().install() \n",
    "#firefox_service = Service(firefox_path)\n",
    "#driver = Firefox(options=options, service=firefox_service)\n",
    "#driver.implicitly_wait(5)"
   ]
  },
  {
   "cell_type": "markdown",
   "metadata": {},
   "source": [
    "\"\"\"DEBUGGING SANDBOX\"\"\""
   ]
  },
  {
   "cell_type": "code",
   "execution_count": 15,
   "metadata": {},
   "outputs": [],
   "source": [
    "#table this for now, since we still want to check for comp plan and ordinance keywords anyway\n",
    "\"Charlotte County Solar Development Page\"\n",
    "def charlotte_county_solar_development():\n",
    "    driver.get(\"https://www.charlottecountyva.gov/departments/planning___zoning/solar_development.php\")\n",
    "    time.sleep(1)\n",
    "    table_rows = driver.find_elements(By.CSS_SELECTOR,\"tr\")\n",
    "    "
   ]
  },
  {
   "cell_type": "code",
   "execution_count": 2,
   "metadata": {},
   "outputs": [],
   "source": [
    "#come back to this another day\n",
    "all_dictionaries=[agendacenter_dictionary,boarddocs_dictionary,civicclerk_dictionary,civicweb_dictionary,document_center_dictionary,escribe_dictionary,event_list_dictionary,granicus_dictionary,granicus_2_dictionary,laserfiche_dictionary,legistar_dictionary,meetingstable_dictionary,novusagenda_dictionary,php_table_dictionary,primegov_dictionary,county_dictionary_single_variable,county_dictionary_double_variable,city_dictionary_single_variable,city_dictionary_double_variable]\n",
    "\n",
    "for dictionary in all_dictionaries:\n",
    "    for entry in dictionary:\n",
    "        print(entry)"
   ]
  },
  {
   "cell_type": "code",
   "execution_count": null,
   "metadata": {},
   "outputs": [],
   "source": [
    "\"\"\"Sussex County\"\"\"\n",
    "def sussex_county(url):\n",
    "    driver.get(url)\n",
    "    time.sleep(2)\n",
    "    messages = []\n",
    "    event_links = driver.find_elements(By.CSS_SELECTOR,\"div[class*='event-post'\")\n",
    "    event_urls = []\n",
    "    event_titles = []\n",
    "    for item in event_links:\n",
    "        event_urls.append(item.find_element(By.CSS_SELECTOR,\"a\").get_attribute(\"href\"))\n",
    "        event_titles.append(item.text.replace(\"\\n\",\" \").split(\"until\")[0])\n",
    "    for i in range(0,len(event_urls)):\n",
    "        driver.get(event_urls[i])\n",
    "        time.sleep(2)\n",
    "        try:\n",
    "            agenda_link = driver.find_element(By.CSS_SELECTOR,\"a[href*='.pdf'\")\n",
    "            agenda_link.click()\n",
    "            time.sleep(1)\n",
    "            driver.switch_to.window(driver.window_handles[1])\n",
    "            agenda_content = driver.find_elements(By.CSS_SELECTOR,\"div[class*=textLayer\")\n",
    "            agenda_search = search_agenda_for_keywords(agenda_content)\n",
    "            if agenda_search != []:\n",
    "                messages.append(\"Keyword(s) \" + \", \".join(agenda_search) + \" found in upcoming meeting for Sussex County in \" + event_titles[i] + \". \" + event_links[i])\n",
    "            driver.close()\n",
    "            driver.switch_to.window(driver.window_handles[0])\n",
    "        except:\n",
    "            continue\n",
    "    return messages"
   ]
  }
 ],
 "metadata": {
  "kernelspec": {
   "display_name": "Python 3",
   "language": "python",
   "name": "python3"
  },
  "language_info": {
   "codemirror_mode": {
    "name": "ipython",
    "version": 3
   },
   "file_extension": ".py",
   "mimetype": "text/x-python",
   "name": "python",
   "nbconvert_exporter": "python",
   "pygments_lexer": "ipython3",
   "version": "3.12.2"
  },
  "orig_nbformat": 4,
  "vscode": {
   "interpreter": {
    "hash": "41f4603e9ae2ea2a4ec02893be2c0f3b30baca65be1064668a2659ea9f4f6da5"
   }
  }
 },
 "nbformat": 4,
 "nbformat_minor": 2
}
