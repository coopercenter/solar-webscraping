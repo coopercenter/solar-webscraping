{
 "cells": [
  {
   "cell_type": "code",
   "execution_count": 1,
   "metadata": {},
   "outputs": [
    {
     "data": {
      "text/plain": [
       "'Firefox Version'"
      ]
     },
     "execution_count": 1,
     "metadata": {},
     "output_type": "execute_result"
    }
   ],
   "source": [
    "\"\"\"Package Loading\"\"\"\n",
    "\"\"\"General\"\"\"\n",
    "from webscraping_dictionaries import *\n",
    "from webscraping_driver import *\n",
    "from webscraping_packages import *\n",
    "from webscraping_functions import *\n",
    "from webscraping_running import *\n",
    "#from webscraping_functions import *\n",
    "#from email.mime.text import MIMEText\n",
    "#from email.mime.multipart import MIMEMultipart\n",
    "\"\"\"Chrome Options\"\"\"\n",
    "#from selenium.webdriver import Chrome \n",
    "#from selenium.webdriver.chrome.service import Service \n",
    "#from webdriver_manager.chrome import ChromeDriverManager\n",
    "\n",
    "\"\"\"Firefox Options\"\"\"\n",
    "#from selenium.webdriver import Firefox\n",
    "#from selenium.webdriver.firefox.service import Service\n",
    "#from webdriver_manager.firefox import GeckoDriverManager\n",
    "\n",
    "\n",
    "\"\"\"Initialize the driver\"\"\"\n",
    "\n",
    "\"\"\"Driver Setup\"\"\"\n",
    "\n",
    "#following steps from here: https://www.zenrows.com/blog/scraping-javascript-rendered-web-pages#installing-the-requirements\n",
    "#critical help using the click method from here https://www.geeksforgeeks.org/click-element-method-selenium-python/\n",
    "\n",
    "\"\"\"Chrome Version\"\"\"\n",
    "#options = webdriver.ChromeOptions()\n",
    "#options.headless = True\n",
    "#options.page_load_strategy = 'none' \n",
    "#chrome_path = ChromeDriverManager().install()\n",
    "#chrome_service = Service(chrome_path)\n",
    "#driver = Chrome(options=options, service=chrome_service) \n",
    "#driver.implicitly_wait(5)\n",
    "\n",
    "\"\"\"Firefox Version\"\"\"  \n",
    "#options = webdriver.FirefoxOptions()\n",
    "#options.headless = True\n",
    "#options.add_argument(\"--headless=new\")\n",
    "#options.page_load_strategy = 'none' \n",
    "#firefox_path = GeckoDriverManager().install() \n",
    "#firefox_service = Service(firefox_path)\n",
    "#driver = Firefox(options=options, service=firefox_service)\n",
    "#driver.implicitly_wait(5)"
   ]
  },
  {
   "cell_type": "markdown",
   "metadata": {},
   "source": [
    "\"\"\"WEBSCRAPING RUNNING\"\"\""
   ]
  },
  {
   "cell_type": "code",
   "execution_count": 2,
   "metadata": {},
   "outputs": [
    {
     "name": "stderr",
     "output_type": "stream",
     "text": [
      "/Users/WorkDragon/Library/Python/3.12/lib/python/site-packages/dateutil/parser/_parser.py:1207: UnknownTimezoneWarning: tzname APS identified but not understood.  Pass `tzinfos` argument in order to correctly return a timezone-aware datetime.  In a future version, this will raise an exception.\n",
      "  warnings.warn(\"tzname {tzname} identified but not understood.  \"\n",
      "/Users/WorkDragon/Library/Python/3.12/lib/python/site-packages/dateutil/parser/_parser.py:1207: UnknownTimezoneWarning: tzname CPHD identified but not understood.  Pass `tzinfos` argument in order to correctly return a timezone-aware datetime.  In a future version, this will raise an exception.\n",
      "  warnings.warn(\"tzname {tzname} identified but not understood.  \"\n"
     ]
    }
   ],
   "source": [
    "New_Alerts = run_webscraping()"
   ]
  },
  {
   "cell_type": "code",
   "execution_count": 4,
   "metadata": {},
   "outputs": [
    {
     "name": "stdout",
     "output_type": "stream",
     "text": [
      "Solar Alerts:Keyword(s) Solar found in upcoming meeting for Halifax County. https://www.halifaxcountyva.gov/AgendaCenter/ViewFile/Agenda/_06022025-604, \n",
      "Keyword(s) Solar found in upcoming meeting for City of Suffolk. https://www.suffolkva.us/AgendaCenter/ViewFile/Agenda/_06042025-3522, \n",
      " Keyword(s) Solar found in upcoming meeting for City of Suffolk. https://www.suffolkva.us/AgendaCenter/ViewFile/Agenda/_06042025-3523, \n",
      "Keyword(s) Solar found in upcoming meeting for Augusta County. https://augustacova.portal.civicclerk.com/event/553/files, \n",
      "Keyword(s) Solar found in upcoming meeting for Scott County. https://scottcova.portal.civicclerk.com/event/226/files, \n",
      "Keyword(s) Solar, Zoning Ordinance found in upcoming meeting for City of Lexington. https://lexingtonva.civicweb.net/Portal/MeetingInformation.aspx?Id=8307, \n",
      " Keyword(s) Solar, Zoning Ordinance found in upcoming meeting for City of Lexington. https://lexingtonva.civicweb.net/Portal/MeetingInformation.aspx?Org=Cal&id=8307\n",
      "\n",
      "Siting Agreement Alerts:\n",
      "\n",
      "Unreadable Alerts:New meeting document available for Botetourt County. Document cannot be scanned for keywords. https://www.botetourtva.gov/AgendaCenter/ViewFile/Agenda/_06092025-606?html=true, \n",
      "New meeting document available for Franklin County. Document cannot be scanned for keywords. https://www.franklincountyva.gov/AgendaCenter/ViewFile/Agenda/_06102025-657, \n",
      "New meeting document available for Madison County. Document cannot be scanned for keywords. https://www.madisonco.virginia.gov/AgendaCenter/ViewFile/Agenda/_06042025-312, \n",
      " New meeting document available for Madison County. Document cannot be scanned for keywords. https://www.madisonco.virginia.gov/AgendaCenter/ViewFile/Agenda/_06042025-313, \n",
      "New meeting document available for Middlesex County. Document cannot be scanned for keywords. https://www.co.middlesex.va.us/AgendaCenter/ViewFile/Agenda/_06032025-650, \n",
      "New meeting document available for Rockingham County. Document cannot be scanned for keywords. https://www.rockinghamcountyva.gov/AgendaCenter/ViewFile/Agenda/_06032025-883, \n",
      "New meeting agenda available for Craig County Board of Supervisors. Document cannot be scanned for keywords. https://craigcountyva.gov/government/board-of-supervisors/june-5th-2025-agenda-and-packet-part-a/, \n",
      " New meeting agenda available for Craig County Board of Supervisors. Document cannot be scanned for keywords. https://craigcountyva.gov/government/board-of-supervisors/june-5th-2025-agenda-and-packet-part-b/, \n",
      "New meeting agenda available for Greensville County Board of Supervisors. Document cannot be scanned for keywords. https://www.greensvillecountyva.gov/Board%20of%20Supervisors%20Agenda%20-%2006022025.pdf\n",
      "\n",
      "Error Alerts:Error webscraping Dickenson County using Document Center code, \n",
      "Error webscraping Town of Covington, \n",
      "Error webscraping Fairfax County Planning Commission, \n",
      "Error webscraping City of Franklin, \n",
      "Error webscraping Highland County Board of Supervisors, \n",
      "Error webscraping Lee County, \n",
      "Error webscraping Prince Edward County Planning Commission, \n",
      "Error webscraping Bath County Board of Zoning Appeals, \n",
      "Error webscraping Nottoway County Planning Commission\n",
      "\n",
      "Other Alerts:Keyword(s) Zoning Ordinance found in upcoming meeting for Page County. https://www.pagecounty.virginia.gov/AgendaCenter/ViewFile/Agenda/_06022025-1000, \n",
      "Keyword(s) Zoning Ordinance, Comprehensive Plan found in upcoming meeting for City of Petersburg. http://www.petersburg-va.org/AgendaCenter/ViewFile/Agenda/_06052025-930, \n",
      "Keyword(s) Comprehensive Plan found in upcoming meeting for City of Portsmouth. https://www.portsmouthva.gov/AgendaCenter/ViewFile/Agenda/_06032025-1302, \n",
      " Keyword(s) Zoning Ordinance, Comprehensive Plan found in upcoming meeting for City of Portsmouth. https://www.portsmouthva.gov/AgendaCenter/ViewFile/Agenda/_06032025-1304, \n",
      "Keyword(s) Zoning Ordinance found in upcoming meeting for Culpeper County in Jun 3, 2025 (Tue)\n",
      "PRELIMINARY AGENDA - 10:00 A.M. CULPEPER COUNTY BOARD OF SUPERVISORS MEETING. https://go.boarddocs.com/va/ccva/Board.nsf/Public, \n",
      "Keyword(s) Zoning Ordinance found in upcoming meeting for Rappahannock County in Jun 2, 2025 (Mon)\n",
      "Board of Supervisors Regular Meeting. https://go.boarddocs.com/va/corva/Board.nsf/Public, \n",
      "Keyword(s) Comprehensive Plan found in upcoming meeting for Chesterfield County. https://chesterfieldcova.portal.civicclerk.com/event/1248/files, \n",
      " Keyword(s) Zoning Ordinance, Comprehensive Plan found in upcoming meeting for Chesterfield County. https://chesterfieldcova.portal.civicclerk.com/event/1083/files, \n",
      "Keyword(s) Zoning Ordinance found in upcoming meeting for City of Danville. https://danvilleva.portal.civicclerk.com/event/2482/files, \n",
      " Keyword(s) Zoning Ordinance found in upcoming meeting for City of Danville. https://danvilleva.portal.civicclerk.com/event/2433/files, \n",
      "Keyword(s) Zoning Ordinance found in upcoming meeting for James City County. https://jamescitycova.portal.civicclerk.com/event/1460/files, \n",
      "Keyword(s) Zoning Ordinance, Comprehensive Plan found in upcoming meeting for Louisa County. https://louisacova.portal.civicclerk.com/event/1015/files, \n",
      " Keyword(s) Comprehensive Plan found in upcoming meeting for Louisa County. https://louisacova.portal.civicclerk.com/event/1007/files, \n",
      "Keyword(s) Zoning Ordinance found in upcoming meeting for City of Petersburg. https://petersburgva.portal.civicclerk.com/event/467/files, \n",
      "Keyword(s) Zoning Ordinance found in upcoming meeting for Warren County. https://warrencountyva.portal.civicclerk.com/event/2797/files, \n",
      "Keyword(s) Comprehensive Plan found in upcoming meeting for City of Newport News. https://nngov.civicweb.net/Portal/MeetingInformation.aspx?Id=4093, \n",
      " Keyword(s) Comprehensive Plan found in upcoming meeting for City of Newport News. https://nngov.civicweb.net/Portal/MeetingInformation.aspx?Org=Cal&id=4093, \n",
      "Keyword(s) Zoning Ordinance found in upcoming meeting for City of Winchester. https://winchesterva.civicweb.net/Portal/MeetingInformation.aspx?Id=27192, \n",
      " Keyword(s) Zoning Ordinance found in upcoming meeting for City of Winchester. https://winchesterva.civicweb.net/Portal/MeetingInformation.aspx?Id=27180, \n",
      " Keyword(s) Zoning Ordinance found in upcoming meeting for City of Winchester. https://winchesterva.civicweb.net/Portal/MeetingInformation.aspx?Org=Cal&id=27180, \n",
      " Keyword(s) Zoning Ordinance found in upcoming meeting for City of Winchester. https://winchesterva.civicweb.net/Portal/MeetingInformation.aspx?Org=Cal&id=27192, \n",
      " Keyword(s) Comprehensive Plan found in upcoming meeting for City of Winchester. https://winchesterva.civicweb.net/Portal/MeetingInformation.aspx?Org=Cal&id=27024, \n",
      "Keyword(s) Zoning Ordinance found in upcoming meeting for City of Richmond. https://richmondva.legistar.com/MeetingDetail.aspx?ID=1309374&GUID=C6381FB8-27A2-49A5-A596-1DA49AB2ABD1&Options=info|&Search=, \n",
      "Keyword(s) Comprehensive Plan found in upcoming meeting for Arlington County Planning Commission. https://meetings.arlingtonva.us/Planning/Meetings/ViewMeeting?id=2616&doctype=1, \n",
      "Keyword(s) Zoning Ordinance, Comprehensive Plan found in upcoming meeting for Henrico County in the latest Planning Commission/Board of Zoning Appeals agenda. https://henrico.gov/pdfs/planning/meetnext.pdf, \n",
      "Keyword(s) Zoning Ordinance found in upcoming meeting for Nelson County. https://www.nelsoncounty-va.gov/event/board-of-supervisors-and-planning-commission-joint-public-hearing/, \n",
      "Keyword(s) Comprehensive Plan found in upcoming meeting for Pittsylvania County. https://www.pittsylvaniacountyva.gov/home/showpublisheddocument/6802/638842198633336975, \n",
      "Keyword(s) Comprehensive Plan found in upcoming meeting for Bath County Planning Commission. https://www.bathcountyva.gov/common/pages/GetFile.ashx?key=VZ09AZdj\n"
     ]
    }
   ],
   "source": [
    "print(New_Alerts)"
   ]
  },
  {
   "cell_type": "markdown",
   "metadata": {},
   "source": [
    "\"\"\"DEVELOPMENT\"\"\""
   ]
  },
  {
   "cell_type": "code",
   "execution_count": null,
   "metadata": {},
   "outputs": [],
   "source": [
    "#table this for now, since we still want to check for comp plan and ordinance keywords anyway\n",
    "\"Charlotte County Solar Development Page\"\n",
    "def charlotte_county_solar_development():\n",
    "    driver.get(\"https://www.charlottecountyva.gov/departments/planning___zoning/solar_development.php\")\n",
    "    time.sleep(1)\n",
    "    table_rows = driver.find_elements(By.CSS_SELECTOR,\"tr\")\n",
    "    "
   ]
  },
  {
   "cell_type": "code",
   "execution_count": null,
   "metadata": {},
   "outputs": [],
   "source": [
    "#reconfiguring how the scraping methods work\n",
    "#leverage object oriented programming and the possibilities of functions\n",
    "#currently, each website has its own custom function, and the repeated document sharing websites have their own customized function as well\n",
    "#few repeated functions despite potential for more, and for better generalization\n",
    "#inconsistent methodoloy that evolved over time as I kept remaking the functions from scratch\n",
    "#potential to take the common steps and turn those into functions rather than having them rewritten dozens of times\n",
    "#opportunities to keep optimizing"
   ]
  },
  {
   "cell_type": "markdown",
   "metadata": {},
   "source": [
    "\"\"\"DEBUGGING\"\"\""
   ]
  },
  {
   "cell_type": "code",
   "execution_count": null,
   "metadata": {},
   "outputs": [],
   "source": [
    "\"Highland County\" #consider addition to Links by Year localities?\n",
    "#needs review, latest posted agenda was a docx download, also timestamp checking errors\n",
    "def highland_county_bos():\n",
    "    from webscraping_dictionaries import locality_dictionary_single_use\n",
    "    messages = []\n",
    "    driver.get(locality_dictionary_single_use['Highland BOS']['url'])\n",
    "    time.sleep(10)\n",
    "    folders = driver.find_elements(By.CSS_SELECTOR,\"a[href*=agenda\")\n",
    "    current_year = [item for item in folders if item.text==str(datetime.now().year)]\n",
    "    driver.get(current_year[0].get_attribute('href'))\n",
    "    time.sleep(10)\n",
    "    meetings = driver.find_elements(By.CSS_SELECTOR,\"div[class*='views-row'\")\n",
    "    future_meetings = [item.find_element(By.CSS_SELECTOR,\"a\").get_attribute(\"href\") for item in meetings if check_meeting_date(item.text) == True]\n",
    "    for item in future_meetings:\n",
    "        driver.get(item)\n",
    "        time.sleep(10)\n",
    "        agenda_link = driver.find_element(By.CSS_SELECTOR,\"a[href*='.pdf'\").get_attribute('href')\n",
    "        driver.get(agenda_link)\n",
    "        time.sleep(10)\n",
    "        agenda_content = get_agenda_content(locality_dictionary_single_use[\"Highland BOS\"][\"content_tag\"])\n",
    "        readable = check_agenda_readability(agenda_content)\n",
    "        if readable == True:\n",
    "            agenda_search = search_text_for_keywords(agenda_content)\n",
    "            if agenda_search != []:\n",
    "                messages.append(\"Keyword(s) \" + \", \".join(agenda_search) + \" found in upcoming meeting for Highland County Board of Supervisors. \" + agenda_link)\n",
    "        elif readable == False:\n",
    "            messages.append(\"New document available for upcoming meeting for Highland County Board of Supervisors. Document cannot be scanned for keywords. \" + agenda_link)\n",
    "    return messages"
   ]
  },
  {
   "cell_type": "code",
   "execution_count": 29,
   "metadata": {},
   "outputs": [],
   "source": [
    "driver.get(locality_dictionary_single_use[\"Highland BOS\"][\"url\"])"
   ]
  },
  {
   "cell_type": "code",
   "execution_count": 30,
   "metadata": {},
   "outputs": [],
   "source": [
    "folders = driver.find_elements(By.CSS_SELECTOR,\"a[href*=agenda\")"
   ]
  },
  {
   "cell_type": "code",
   "execution_count": 31,
   "metadata": {},
   "outputs": [],
   "source": [
    "current_year = [item for item in folders if item.text==str(datetime.now().year)]"
   ]
  },
  {
   "cell_type": "code",
   "execution_count": 32,
   "metadata": {},
   "outputs": [],
   "source": [
    "driver.get(current_year[0].get_attribute('href'))"
   ]
  },
  {
   "cell_type": "code",
   "execution_count": 33,
   "metadata": {},
   "outputs": [],
   "source": [
    "meetings = driver.find_elements(By.CSS_SELECTOR,\"div[class*='views-row'\")"
   ]
  },
  {
   "cell_type": "code",
   "execution_count": 39,
   "metadata": {},
   "outputs": [
    {
     "name": "stdout",
     "output_type": "stream",
     "text": [
      "June 3, 2025\n",
      "May 22, 2025\n",
      "May 21, 2025\n",
      "May 6, 2025\n",
      "April 28, 2025\n",
      "April 21, 2025\n",
      "4/1/2025\n"
     ]
    }
   ],
   "source": [
    "for item in meetings:\n",
    "    print(search_dates(item.text)[0][0])"
   ]
  },
  {
   "cell_type": "code",
   "execution_count": 36,
   "metadata": {},
   "outputs": [
    {
     "ename": "ParserError",
     "evalue": "Unknown string format: Agenda May 21, 2025\nMay 21, 2025 - 7:30pm",
     "output_type": "error",
     "traceback": [
      "\u001b[0;31m---------------------------------------------------------------------------\u001b[0m",
      "\u001b[0;31mParserError\u001b[0m                               Traceback (most recent call last)",
      "Cell \u001b[0;32mIn[36], line 1\u001b[0m\n\u001b[0;32m----> 1\u001b[0m future_meetings \u001b[38;5;241m=\u001b[39m [item\u001b[38;5;241m.\u001b[39mfind_element(By\u001b[38;5;241m.\u001b[39mCSS_SELECTOR,\u001b[38;5;124m\"\u001b[39m\u001b[38;5;124ma\u001b[39m\u001b[38;5;124m\"\u001b[39m)\u001b[38;5;241m.\u001b[39mget_attribute(\u001b[38;5;124m\"\u001b[39m\u001b[38;5;124mhref\u001b[39m\u001b[38;5;124m\"\u001b[39m) \u001b[38;5;28;01mfor\u001b[39;00m item \u001b[38;5;129;01min\u001b[39;00m meetings \u001b[38;5;28;01mif\u001b[39;00m \u001b[43mcheck_meeting_date\u001b[49m\u001b[43m(\u001b[49m\u001b[43mitem\u001b[49m\u001b[38;5;241;43m.\u001b[39;49m\u001b[43mtext\u001b[49m\u001b[43m)\u001b[49m \u001b[38;5;241m==\u001b[39m \u001b[38;5;28;01mTrue\u001b[39;00m]\n",
      "File \u001b[0;32m~/Documents/WeldonCooper/SolarDatabase/solar-webscraping/webscraping_functions.py:31\u001b[0m, in \u001b[0;36mcheck_meeting_date\u001b[0;34m(meeting_time_string)\u001b[0m\n\u001b[1;32m     29\u001b[0m day_before_yesterday \u001b[38;5;241m=\u001b[39m yesterday \u001b[38;5;241m-\u001b[39m one_day\n\u001b[1;32m     30\u001b[0m \u001b[38;5;66;03m#all_meetings[i].text should be set as the meeting title for boarddocs sites\u001b[39;00m\n\u001b[0;32m---> 31\u001b[0m \u001b[38;5;28;01mif\u001b[39;00m datetime\u001b[38;5;241m.\u001b[39mdate(datetime\u001b[38;5;241m.\u001b[39mnow()) \u001b[38;5;241m<\u001b[39m datetime\u001b[38;5;241m.\u001b[39mdate(\u001b[43mdateutil\u001b[49m\u001b[38;5;241;43m.\u001b[39;49m\u001b[43mparser\u001b[49m\u001b[38;5;241;43m.\u001b[39;49m\u001b[43mparse\u001b[49m\u001b[43m(\u001b[49m\u001b[43mmeeting_time_string\u001b[49m\u001b[43m,\u001b[49m\u001b[43m \u001b[49m\u001b[43mfuzzy\u001b[49m\u001b[38;5;241;43m=\u001b[39;49m\u001b[38;5;28;43;01mTrue\u001b[39;49;00m\u001b[43m)\u001b[49m) \u001b[38;5;129;01mor\u001b[39;00m datetime\u001b[38;5;241m.\u001b[39mdate(datetime\u001b[38;5;241m.\u001b[39mnow()) \u001b[38;5;241m==\u001b[39m datetime\u001b[38;5;241m.\u001b[39mdate(dateutil\u001b[38;5;241m.\u001b[39mparser\u001b[38;5;241m.\u001b[39mparse(meeting_time_string, fuzzy\u001b[38;5;241m=\u001b[39m\u001b[38;5;28;01mTrue\u001b[39;00m)) \u001b[38;5;129;01mor\u001b[39;00m yesterday \u001b[38;5;241m==\u001b[39m datetime\u001b[38;5;241m.\u001b[39mdate(dateutil\u001b[38;5;241m.\u001b[39mparser\u001b[38;5;241m.\u001b[39mparse(meeting_time_string, fuzzy\u001b[38;5;241m=\u001b[39m\u001b[38;5;28;01mTrue\u001b[39;00m)) \u001b[38;5;129;01mor\u001b[39;00m day_before_yesterday \u001b[38;5;241m==\u001b[39m datetime\u001b[38;5;241m.\u001b[39mdate(dateutil\u001b[38;5;241m.\u001b[39mparser\u001b[38;5;241m.\u001b[39mparse(meeting_time_string, fuzzy\u001b[38;5;241m=\u001b[39m\u001b[38;5;28;01mTrue\u001b[39;00m)):\n\u001b[1;32m     32\u001b[0m     \u001b[38;5;28;01mreturn\u001b[39;00m \u001b[38;5;28;01mTrue\u001b[39;00m\n\u001b[1;32m     33\u001b[0m \u001b[38;5;28;01melse\u001b[39;00m:\n",
      "File \u001b[0;32m~/Library/Python/3.12/lib/python/site-packages/dateutil/parser/_parser.py:1368\u001b[0m, in \u001b[0;36mparse\u001b[0;34m(timestr, parserinfo, **kwargs)\u001b[0m\n\u001b[1;32m   1366\u001b[0m     \u001b[38;5;28;01mreturn\u001b[39;00m parser(parserinfo)\u001b[38;5;241m.\u001b[39mparse(timestr, \u001b[38;5;241m*\u001b[39m\u001b[38;5;241m*\u001b[39mkwargs)\n\u001b[1;32m   1367\u001b[0m \u001b[38;5;28;01melse\u001b[39;00m:\n\u001b[0;32m-> 1368\u001b[0m     \u001b[38;5;28;01mreturn\u001b[39;00m \u001b[43mDEFAULTPARSER\u001b[49m\u001b[38;5;241;43m.\u001b[39;49m\u001b[43mparse\u001b[49m\u001b[43m(\u001b[49m\u001b[43mtimestr\u001b[49m\u001b[43m,\u001b[49m\u001b[43m \u001b[49m\u001b[38;5;241;43m*\u001b[39;49m\u001b[38;5;241;43m*\u001b[39;49m\u001b[43mkwargs\u001b[49m\u001b[43m)\u001b[49m\n",
      "File \u001b[0;32m~/Library/Python/3.12/lib/python/site-packages/dateutil/parser/_parser.py:643\u001b[0m, in \u001b[0;36mparser.parse\u001b[0;34m(self, timestr, default, ignoretz, tzinfos, **kwargs)\u001b[0m\n\u001b[1;32m    640\u001b[0m res, skipped_tokens \u001b[38;5;241m=\u001b[39m \u001b[38;5;28mself\u001b[39m\u001b[38;5;241m.\u001b[39m_parse(timestr, \u001b[38;5;241m*\u001b[39m\u001b[38;5;241m*\u001b[39mkwargs)\n\u001b[1;32m    642\u001b[0m \u001b[38;5;28;01mif\u001b[39;00m res \u001b[38;5;129;01mis\u001b[39;00m \u001b[38;5;28;01mNone\u001b[39;00m:\n\u001b[0;32m--> 643\u001b[0m     \u001b[38;5;28;01mraise\u001b[39;00m ParserError(\u001b[38;5;124m\"\u001b[39m\u001b[38;5;124mUnknown string format: \u001b[39m\u001b[38;5;132;01m%s\u001b[39;00m\u001b[38;5;124m\"\u001b[39m, timestr)\n\u001b[1;32m    645\u001b[0m \u001b[38;5;28;01mif\u001b[39;00m \u001b[38;5;28mlen\u001b[39m(res) \u001b[38;5;241m==\u001b[39m \u001b[38;5;241m0\u001b[39m:\n\u001b[1;32m    646\u001b[0m     \u001b[38;5;28;01mraise\u001b[39;00m ParserError(\u001b[38;5;124m\"\u001b[39m\u001b[38;5;124mString does not contain a date: \u001b[39m\u001b[38;5;132;01m%s\u001b[39;00m\u001b[38;5;124m\"\u001b[39m, timestr)\n",
      "\u001b[0;31mParserError\u001b[0m: Unknown string format: Agenda May 21, 2025\nMay 21, 2025 - 7:30pm"
     ]
    }
   ],
   "source": [
    "future_meetings = [item.find_element(By.CSS_SELECTOR,\"a\").get_attribute(\"href\") for item in meetings if check_meeting_date(item.text) == True]"
   ]
  }
 ],
 "metadata": {
  "kernelspec": {
   "display_name": "Python 3",
   "language": "python",
   "name": "python3"
  },
  "language_info": {
   "codemirror_mode": {
    "name": "ipython",
    "version": 3
   },
   "file_extension": ".py",
   "mimetype": "text/x-python",
   "name": "python",
   "nbconvert_exporter": "python",
   "pygments_lexer": "ipython3",
   "version": "3.12.7"
  },
  "orig_nbformat": 4,
  "vscode": {
   "interpreter": {
    "hash": "41f4603e9ae2ea2a4ec02893be2c0f3b30baca65be1064668a2659ea9f4f6da5"
   }
  }
 },
 "nbformat": 4,
 "nbformat_minor": 2
}
