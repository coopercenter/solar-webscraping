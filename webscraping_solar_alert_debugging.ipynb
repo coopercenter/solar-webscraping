{
 "cells": [
  {
   "cell_type": "code",
   "execution_count": 1,
   "metadata": {},
   "outputs": [
    {
     "data": {
      "text/plain": [
       "'Firefox Version'"
      ]
     },
     "execution_count": 1,
     "metadata": {},
     "output_type": "execute_result"
    }
   ],
   "source": [
    "\"\"\"Package Loading\"\"\"\n",
    "\"\"\"General\"\"\"\n",
    "from webscraping_dictionaries import *\n",
    "from webscraping_functions import *\n",
    "import time\n",
    "from dateutil import relativedelta\n",
    "from datetime import datetime\n",
    "from selenium import webdriver\n",
    "from selenium.webdriver.common.by import By  \n",
    "import requests\n",
    "import smtplib\n",
    "from email.mime.text import MIMEText\n",
    "from email.mime.multipart import MIMEMultipart\n",
    "import ssl\n",
    "import os\n",
    "#import dotenv\n",
    "\"\"\"Chrome Options\"\"\"\n",
    "#from selenium.webdriver import Chrome \n",
    "#from selenium.webdriver.chrome.service import Service \n",
    "#from webdriver_manager.chrome import ChromeDriverManager\n",
    "\n",
    "\"\"\"Firefox Options\"\"\"\n",
    "#from selenium.webdriver import Firefox\n",
    "#from selenium.webdriver.firefox.service import Service\n",
    "#from webdriver_manager.firefox import GeckoDriverManager\n",
    "\n",
    "\n",
    "\"\"\"Initialize the driver\"\"\"\n",
    "\n",
    "\"\"\"Driver Setup\"\"\"\n",
    "\n",
    "#following steps from here: https://www.zenrows.com/blog/scraping-javascript-rendered-web-pages#installing-the-requirements\n",
    "#critical help using the click method from here https://www.geeksforgeeks.org/click-element-method-selenium-python/\n",
    "\n",
    "\"\"\"Chrome Version\"\"\"\n",
    "#options = webdriver.ChromeOptions()\n",
    "#options.headless = True\n",
    "#options.page_load_strategy = 'none' \n",
    "#chrome_path = ChromeDriverManager().install()\n",
    "#chrome_service = Service(chrome_path)\n",
    "#driver = Chrome(options=options, service=chrome_service) \n",
    "#driver.implicitly_wait(5)\n",
    "\n",
    "\"\"\"Firefox Version\"\"\"  \n",
    "#options = webdriver.FirefoxOptions()\n",
    "#options.headless = True\n",
    "#options.add_argument(\"--headless=new\")\n",
    "#options.page_load_strategy = 'none' \n",
    "#firefox_path = GeckoDriverManager().install() \n",
    "#firefox_service = Service(firefox_path)\n",
    "#driver = Firefox(options=options, service=firefox_service)\n",
    "#driver.implicitly_wait(5)"
   ]
  },
  {
   "cell_type": "markdown",
   "metadata": {},
   "source": [
    "\"\"\"DEBUGGING SANDBOX\"\"\""
   ]
  },
  {
   "cell_type": "code",
   "execution_count": null,
   "metadata": {},
   "outputs": [],
   "source": [
    "#table this for now, since we still want to check for comp plan and ordinance keywords anyway\n",
    "\"Charlotte County Solar Development Page\"\n",
    "def charlotte_county_solar_development():\n",
    "    driver.get(\"https://www.charlottecountyva.gov/departments/planning___zoning/solar_development.php\")\n",
    "    time.sleep(1)\n",
    "    table_rows = driver.find_elements(By.CSS_SELECTOR,\"tr\")\n",
    "    "
   ]
  },
  {
   "cell_type": "code",
   "execution_count": null,
   "metadata": {},
   "outputs": [],
   "source": [
    "#come back to this another day\n",
    "all_dictionaries=[agendacenter_dictionary,boarddocs_dictionary,civicclerk_dictionary,civicweb_dictionary,document_center_dictionary,escribe_dictionary,granicus_dictionary,granicus_2_dictionary,laserfiche_dictionary,legistar_dictionary,meetingstable_dictionary,novusagenda_dictionary,php_table_dictionary,primegov_dictionary,county_dictionary_single_variable,county_dictionary_double_variable,city_dictionary_single_variable,city_dictionary_double_variable]\n",
    "\n",
    "for dictionary in all_dictionaries:\n",
    "    for entry in dictionary:\n",
    "        print(entry)"
   ]
  },
  {
   "cell_type": "markdown",
   "metadata": {},
   "source": [
    "Finding the meetings in the page:\n",
    "\n",
    "AgendaCenter: table_rows = driver.find_elements(By.CSS_SELECTOR, \"tr[class*=catAgendaRow\") (get the href in a next step)\n",
    "\n",
    "Boarddocs: all_meetings = driver.find_elements(By.CSS_SELECTOR, \"a[class*='icon prevnext meeting\") (boarddocs is so specific, it may be best to leave it as standalone code instead of converting it to be modular)\n",
    "\n",
    "CivicClerk: all_meetings = driver.find_elements(By.CSS_SELECTOR,\"li[class*='cpp-MuiListItem-container'\") \n",
    "\n",
    "CivicWeb: all_meetings = driver.find_elements(By.CSS_SELECTOR,\"a[class*='list-link'\")\n",
    "\n",
    "Document Center: agenda_links = driver.find_elements(By.CSS_SELECTOR,\"a[class*=pdf\") (get href in the next step)\n",
    "\n",
    "eScribe: future_meetings = driver.find_elements(By.CSS_SELECTOR,\"div[class*='upcoming-meeting-container'\")\n",
    "\n",
    "Granicus v2: table_rows = driver.find_elements(By.CSS_SELECTOR, 'div[class*=RowTop') (get the specific meeting links in the next step)\n",
    "\n",
    "Granicus: table_rows=driver.find_elements(By.CSS_SELECTOR,\"tr[class*=listingRow\") (get the href in a following step)\n",
    "\n",
    "* Laserfiche: meeting_folders = driver.find_elements(By.CSS_SELECTOR,\"tr\")\n",
    "\n",
    "Legistar: table_rows = driver.find_elements(By.CSS_SELECTOR,'tr[id*=ctl00_')\n",
    "\n",
    "* MeetingsTable: all_rows = driver.find_elements(By.CSS_SELECTOR,\"tr\")[1:]\n",
    "\n",
    "* NovusAgenda: table_rows = driver.find_elements(By.CSS_SELECTOR,\"tr\")\n",
    "\n",
    "* OnBase: table_rows = driver.find_elements(By.CSS_SELECTOR,\"tr\")\n",
    "\n",
    "* PHP Table: table_rows = driver.find_elements(By.CSS_SELECTOR,'tr')\n",
    "\n",
    "Prime Gov: table_rows = driver.find_elements(By.CSS_SELECTOR,'tr[role*=row')\n",
    "\n",
    "* Albemarle: table_rows = driver.find_elements(By.CSS_SELECTOR, \"tr\")\n",
    "\n",
    "Alleghaney: all_agenda_links = driver.find_elements(By.CSS_SELECTOR,\"a[class*='attachment-link'\") (finds the links right away)\n",
    "\n",
    "Bath: pc_links = driver.find_elements(By.CSS_SELECTOR,\"a[title*='Planning'\") , bos_links = driver.find_elements(By.CSS_SELECTOR,\"a[title*='Board of Supervisors'\")\n",
    "\n",
    "* Bland: table_rows = driver.find_elements(By.CSS_SELECTOR,\"tr\")\n",
    "\n"
   ]
  }
 ],
 "metadata": {
  "kernelspec": {
   "display_name": "Python 3",
   "language": "python",
   "name": "python3"
  },
  "language_info": {
   "codemirror_mode": {
    "name": "ipython",
    "version": 3
   },
   "file_extension": ".py",
   "mimetype": "text/x-python",
   "name": "python",
   "nbconvert_exporter": "python",
   "pygments_lexer": "ipython3",
   "version": "3.12.2"
  },
  "orig_nbformat": 4,
  "vscode": {
   "interpreter": {
    "hash": "41f4603e9ae2ea2a4ec02893be2c0f3b30baca65be1064668a2659ea9f4f6da5"
   }
  }
 },
 "nbformat": 4,
 "nbformat_minor": 2
}
