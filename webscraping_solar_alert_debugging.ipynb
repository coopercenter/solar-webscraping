{
 "cells": [
  {
   "cell_type": "code",
   "execution_count": 2,
   "metadata": {},
   "outputs": [
    {
     "name": "stderr",
     "output_type": "stream",
     "text": [
      "[WDM] - Downloading: 100%|██████████| 1.75M/1.75M [00:01<00:00, 1.79MB/s]\n"
     ]
    },
    {
     "data": {
      "text/plain": [
       "'Firefox Version'"
      ]
     },
     "execution_count": 2,
     "metadata": {},
     "output_type": "execute_result"
    }
   ],
   "source": [
    "\"\"\"Package Loading\"\"\"\n",
    "\"\"\"General\"\"\"\n",
    "from webscraping_dictionaries import *\n",
    "from webscraping_functions import *\n",
    "import time\n",
    "from dateutil import relativedelta\n",
    "from datetime import datetime\n",
    "from selenium import webdriver\n",
    "from selenium.webdriver.common.by import By  \n",
    "import requests\n",
    "import smtplib\n",
    "from email.mime.text import MIMEText\n",
    "from email.mime.multipart import MIMEMultipart\n",
    "import ssl\n",
    "import os\n",
    "#import dotenv\n",
    "\"\"\"Chrome Options\"\"\"\n",
    "#from selenium.webdriver import Chrome \n",
    "#from selenium.webdriver.chrome.service import Service \n",
    "#from webdriver_manager.chrome import ChromeDriverManager\n",
    "\n",
    "\"\"\"Firefox Options\"\"\"\n",
    "#from selenium.webdriver import Firefox\n",
    "#from selenium.webdriver.firefox.service import Service\n",
    "#from webdriver_manager.firefox import GeckoDriverManager\n",
    "\n",
    "\n",
    "\"\"\"Initialize the driver\"\"\"\n",
    "\n",
    "\"\"\"Driver Setup\"\"\"\n",
    "\n",
    "#following steps from here: https://www.zenrows.com/blog/scraping-javascript-rendered-web-pages#installing-the-requirements\n",
    "#critical help using the click method from here https://www.geeksforgeeks.org/click-element-method-selenium-python/\n",
    "\n",
    "\"\"\"Chrome Version\"\"\"\n",
    "#options = webdriver.ChromeOptions()\n",
    "#options.headless = True\n",
    "#options.page_load_strategy = 'none' \n",
    "#chrome_path = ChromeDriverManager().install()\n",
    "#chrome_service = Service(chrome_path)\n",
    "#driver = Chrome(options=options, service=chrome_service) \n",
    "#driver.implicitly_wait(5)\n",
    "\n",
    "\"\"\"Firefox Version\"\"\"  \n",
    "#options = webdriver.FirefoxOptions()\n",
    "#options.headless = True\n",
    "#options.add_argument(\"--headless=new\")\n",
    "#options.page_load_strategy = 'none' \n",
    "#firefox_path = GeckoDriverManager().install() \n",
    "#firefox_service = Service(firefox_path)\n",
    "#driver = Firefox(options=options, service=firefox_service)\n",
    "#driver.implicitly_wait(5)"
   ]
  },
  {
   "cell_type": "markdown",
   "metadata": {},
   "source": [
    "\"\"\"DEBUGGING SANDBOX\"\"\""
   ]
  },
  {
   "cell_type": "code",
   "execution_count": null,
   "metadata": {},
   "outputs": [],
   "source": [
    "#table this for now, since we still want to check for comp plan and ordinance keywords anyway\n",
    "\"Charlotte County Solar Development Page\"\n",
    "def charlotte_county_solar_development():\n",
    "    driver.get(\"https://www.charlottecountyva.gov/departments/planning___zoning/solar_development.php\")\n",
    "    time.sleep(1)\n",
    "    table_rows = driver.find_elements(By.CSS_SELECTOR,\"tr\")\n",
    "    "
   ]
  },
  {
   "cell_type": "code",
   "execution_count": null,
   "metadata": {},
   "outputs": [],
   "source": [
    "#come back to this another day\n",
    "all_dictionaries=[agendacenter_dictionary,boarddocs_dictionary,civicclerk_dictionary,civicweb_dictionary,document_center_dictionary,escribe_dictionary,event_list_dictionary,granicus_dictionary,granicus_2_dictionary,laserfiche_dictionary,legistar_dictionary,meetingstable_dictionary,novusagenda_dictionary,php_table_dictionary,primegov_dictionary,county_dictionary_single_variable,county_dictionary_double_variable,city_dictionary_single_variable,city_dictionary_double_variable]\n",
    "\n",
    "for dictionary in all_dictionaries:\n",
    "    for entry in dictionary:\n",
    "        print(entry)"
   ]
  },
  {
   "cell_type": "code",
   "execution_count": 32,
   "metadata": {},
   "outputs": [],
   "source": [
    "def albemarle_county_pc(url):\n",
    "    url_test = verify_url(url)\n",
    "    messages=[]\n",
    "    empty_messages = []\n",
    "    if url_test==True:\n",
    "        driver.get(url)\n",
    "        time.sleep(5)\n",
    "        table_rows = driver.find_elements(By.CSS_SELECTOR, \"tr\")\n",
    "        #page we're looking at only has upcoming meetings, so no need to check the date\n",
    "        meeting_links = driver.find_elements(By.CSS_SELECTOR,\"a[href*=Calendar\")\n",
    "        meeting_times = driver.find_elements(By.CSS_SELECTOR,\"td[class*=event_datetime\")\n",
    "        meeting_links_href=[]\n",
    "        for item in meeting_links:\n",
    "            meeting_links_href.append(item.get_attribute(\"href\"))\n",
    "        meeting_times_text=[]\n",
    "        for item in meeting_times:\n",
    "            meeting_times_text.append(item.text)\n",
    "        main_window = driver.window_handles[0]\n",
    "        meeting_titles = []\n",
    "        for i in range(0,len(meeting_times)):\n",
    "            meeting_titles.append(meeting_links[i].text + \" \" + meeting_times[i].text)\n",
    "        for i in range(0,len(meeting_links)):\n",
    "            driver.get(meeting_links_href[i])\n",
    "            time.sleep(2)\n",
    "            main_window=driver.window_handles[0]\n",
    "            try:\n",
    "                agenda_link = driver.find_element(By.CSS_SELECTOR,\"a[href*=showpublisheddocument\")\n",
    "                agenda_link.click()\n",
    "                time.sleep(2)\n",
    "                agenda_window=driver.window_handles[1]\n",
    "                driver.switch_to.window(agenda_window)\n",
    "                agenda_content = driver.find_elements(By.CSS_SELECTOR,\"div[class*=textLayer\")\n",
    "                agenda_search=search_agenda_for_keywords(agenda_content)\n",
    "                driver.close()\n",
    "                driver.switch_to.window(main_window)\n",
    "                driver.get(url)\n",
    "                time.sleep(2)\n",
    "                if agenda_search != []:\n",
    "                    messages.append(\"Keyword(s) \" + \", \".join(agenda_search) + \" found in upcoming meeting for Albemarle County Planning Commission in \" + meeting_titles[i])\n",
    "            except:\n",
    "                empty_messages.append(\"No agenda available for \"+ meeting_titles[i])\n",
    "    if url_test != True:\n",
    "        messages.append(url_test)\n",
    "    return messages"
   ]
  },
  {
   "cell_type": "code",
   "execution_count": 38,
   "metadata": {},
   "outputs": [],
   "source": [
    "driver.get(\"https://www.albemarle.org/government/community-development/boards-and-commissions/planning-commission/-toggle-next30days\")"
   ]
  },
  {
   "cell_type": "code",
   "execution_count": 39,
   "metadata": {},
   "outputs": [],
   "source": [
    "table_rows = driver.find_elements(By.CSS_SELECTOR, \"tr\")"
   ]
  },
  {
   "cell_type": "code",
   "execution_count": 46,
   "metadata": {},
   "outputs": [
    {
     "data": {
      "text/plain": [
       "'EVENT DATE/TIME'"
      ]
     },
     "execution_count": 46,
     "metadata": {},
     "output_type": "execute_result"
    }
   ],
   "source": [
    "table_rows[0].text"
   ]
  },
  {
   "cell_type": "code",
   "execution_count": 43,
   "metadata": {},
   "outputs": [
    {
     "ename": "NoSuchElementException",
     "evalue": "Message: Unable to locate element: a[href*=Calendar\nStacktrace:\nRemoteError@chrome://remote/content/shared/RemoteError.sys.mjs:8:8\nWebDriverError@chrome://remote/content/shared/webdriver/Errors.sys.mjs:193:5\nNoSuchElementError@chrome://remote/content/shared/webdriver/Errors.sys.mjs:511:5\ndom.find/</<@chrome://remote/content/shared/DOM.sys.mjs:136:16\n",
     "output_type": "error",
     "traceback": [
      "\u001b[1;31m---------------------------------------------------------------------------\u001b[0m",
      "\u001b[1;31mNoSuchElementException\u001b[0m                    Traceback (most recent call last)",
      "Cell \u001b[1;32mIn[43], line 1\u001b[0m\n\u001b[1;32m----> 1\u001b[0m meeting_links \u001b[38;5;241m=\u001b[39m [item\u001b[38;5;241m.\u001b[39mfind_element(By\u001b[38;5;241m.\u001b[39mCSS_SELECTOR,\u001b[38;5;124m\"\u001b[39m\u001b[38;5;124ma[href*=Calendar\u001b[39m\u001b[38;5;124m\"\u001b[39m) \u001b[38;5;28;01mfor\u001b[39;00m item \u001b[38;5;129;01min\u001b[39;00m table_rows]\n",
      "Cell \u001b[1;32mIn[43], line 1\u001b[0m, in \u001b[0;36m<listcomp>\u001b[1;34m(.0)\u001b[0m\n\u001b[1;32m----> 1\u001b[0m meeting_links \u001b[38;5;241m=\u001b[39m [\u001b[43mitem\u001b[49m\u001b[38;5;241;43m.\u001b[39;49m\u001b[43mfind_element\u001b[49m\u001b[43m(\u001b[49m\u001b[43mBy\u001b[49m\u001b[38;5;241;43m.\u001b[39;49m\u001b[43mCSS_SELECTOR\u001b[49m\u001b[43m,\u001b[49m\u001b[38;5;124;43m\"\u001b[39;49m\u001b[38;5;124;43ma[href*=Calendar\u001b[39;49m\u001b[38;5;124;43m\"\u001b[39;49m\u001b[43m)\u001b[49m \u001b[38;5;28;01mfor\u001b[39;00m item \u001b[38;5;129;01min\u001b[39;00m table_rows]\n",
      "File \u001b[1;32mc:\\Users\\elfda\\AppData\\Local\\Programs\\Python\\Python39\\lib\\site-packages\\selenium\\webdriver\\remote\\webelement.py:433\u001b[0m, in \u001b[0;36mWebElement.find_element\u001b[1;34m(self, by, value)\u001b[0m\n\u001b[0;32m    430\u001b[0m     by \u001b[38;5;241m=\u001b[39m By\u001b[38;5;241m.\u001b[39mCSS_SELECTOR\n\u001b[0;32m    431\u001b[0m     value \u001b[38;5;241m=\u001b[39m \u001b[38;5;124m'\u001b[39m\u001b[38;5;124m[name=\u001b[39m\u001b[38;5;124m\"\u001b[39m\u001b[38;5;132;01m%s\u001b[39;00m\u001b[38;5;124m\"\u001b[39m\u001b[38;5;124m]\u001b[39m\u001b[38;5;124m'\u001b[39m \u001b[38;5;241m%\u001b[39m value\n\u001b[1;32m--> 433\u001b[0m \u001b[38;5;28;01mreturn\u001b[39;00m \u001b[38;5;28;43mself\u001b[39;49m\u001b[38;5;241;43m.\u001b[39;49m\u001b[43m_execute\u001b[49m\u001b[43m(\u001b[49m\u001b[43mCommand\u001b[49m\u001b[38;5;241;43m.\u001b[39;49m\u001b[43mFIND_CHILD_ELEMENT\u001b[49m\u001b[43m,\u001b[49m\u001b[43m \u001b[49m\u001b[43m{\u001b[49m\u001b[38;5;124;43m\"\u001b[39;49m\u001b[38;5;124;43musing\u001b[39;49m\u001b[38;5;124;43m\"\u001b[39;49m\u001b[43m:\u001b[49m\u001b[43m \u001b[49m\u001b[43mby\u001b[49m\u001b[43m,\u001b[49m\u001b[43m \u001b[49m\u001b[38;5;124;43m\"\u001b[39;49m\u001b[38;5;124;43mvalue\u001b[39;49m\u001b[38;5;124;43m\"\u001b[39;49m\u001b[43m:\u001b[49m\u001b[43m \u001b[49m\u001b[43mvalue\u001b[49m\u001b[43m}\u001b[49m\u001b[43m)\u001b[49m[\u001b[38;5;124m\"\u001b[39m\u001b[38;5;124mvalue\u001b[39m\u001b[38;5;124m\"\u001b[39m]\n",
      "File \u001b[1;32mc:\\Users\\elfda\\AppData\\Local\\Programs\\Python\\Python39\\lib\\site-packages\\selenium\\webdriver\\remote\\webelement.py:410\u001b[0m, in \u001b[0;36mWebElement._execute\u001b[1;34m(self, command, params)\u001b[0m\n\u001b[0;32m    408\u001b[0m     params \u001b[38;5;241m=\u001b[39m {}\n\u001b[0;32m    409\u001b[0m params[\u001b[38;5;124m\"\u001b[39m\u001b[38;5;124mid\u001b[39m\u001b[38;5;124m\"\u001b[39m] \u001b[38;5;241m=\u001b[39m \u001b[38;5;28mself\u001b[39m\u001b[38;5;241m.\u001b[39m_id\n\u001b[1;32m--> 410\u001b[0m \u001b[38;5;28;01mreturn\u001b[39;00m \u001b[38;5;28;43mself\u001b[39;49m\u001b[38;5;241;43m.\u001b[39;49m\u001b[43m_parent\u001b[49m\u001b[38;5;241;43m.\u001b[39;49m\u001b[43mexecute\u001b[49m\u001b[43m(\u001b[49m\u001b[43mcommand\u001b[49m\u001b[43m,\u001b[49m\u001b[43m \u001b[49m\u001b[43mparams\u001b[49m\u001b[43m)\u001b[49m\n",
      "File \u001b[1;32mc:\\Users\\elfda\\AppData\\Local\\Programs\\Python\\Python39\\lib\\site-packages\\selenium\\webdriver\\remote\\webdriver.py:444\u001b[0m, in \u001b[0;36mWebDriver.execute\u001b[1;34m(self, driver_command, params)\u001b[0m\n\u001b[0;32m    442\u001b[0m response \u001b[38;5;241m=\u001b[39m \u001b[38;5;28mself\u001b[39m\u001b[38;5;241m.\u001b[39mcommand_executor\u001b[38;5;241m.\u001b[39mexecute(driver_command, params)\n\u001b[0;32m    443\u001b[0m \u001b[38;5;28;01mif\u001b[39;00m response:\n\u001b[1;32m--> 444\u001b[0m     \u001b[38;5;28;43mself\u001b[39;49m\u001b[38;5;241;43m.\u001b[39;49m\u001b[43merror_handler\u001b[49m\u001b[38;5;241;43m.\u001b[39;49m\u001b[43mcheck_response\u001b[49m\u001b[43m(\u001b[49m\u001b[43mresponse\u001b[49m\u001b[43m)\u001b[49m\n\u001b[0;32m    445\u001b[0m     response[\u001b[38;5;124m\"\u001b[39m\u001b[38;5;124mvalue\u001b[39m\u001b[38;5;124m\"\u001b[39m] \u001b[38;5;241m=\u001b[39m \u001b[38;5;28mself\u001b[39m\u001b[38;5;241m.\u001b[39m_unwrap_value(response\u001b[38;5;241m.\u001b[39mget(\u001b[38;5;124m\"\u001b[39m\u001b[38;5;124mvalue\u001b[39m\u001b[38;5;124m\"\u001b[39m, \u001b[38;5;28;01mNone\u001b[39;00m))\n\u001b[0;32m    446\u001b[0m     \u001b[38;5;28;01mreturn\u001b[39;00m response\n",
      "File \u001b[1;32mc:\\Users\\elfda\\AppData\\Local\\Programs\\Python\\Python39\\lib\\site-packages\\selenium\\webdriver\\remote\\errorhandler.py:249\u001b[0m, in \u001b[0;36mErrorHandler.check_response\u001b[1;34m(self, response)\u001b[0m\n\u001b[0;32m    247\u001b[0m         alert_text \u001b[38;5;241m=\u001b[39m value[\u001b[38;5;124m\"\u001b[39m\u001b[38;5;124malert\u001b[39m\u001b[38;5;124m\"\u001b[39m]\u001b[38;5;241m.\u001b[39mget(\u001b[38;5;124m\"\u001b[39m\u001b[38;5;124mtext\u001b[39m\u001b[38;5;124m\"\u001b[39m)\n\u001b[0;32m    248\u001b[0m     \u001b[38;5;28;01mraise\u001b[39;00m exception_class(message, screen, stacktrace, alert_text)  \u001b[38;5;66;03m# type: ignore[call-arg]  # mypy is not smart enough here\u001b[39;00m\n\u001b[1;32m--> 249\u001b[0m \u001b[38;5;28;01mraise\u001b[39;00m exception_class(message, screen, stacktrace)\n",
      "\u001b[1;31mNoSuchElementException\u001b[0m: Message: Unable to locate element: a[href*=Calendar\nStacktrace:\nRemoteError@chrome://remote/content/shared/RemoteError.sys.mjs:8:8\nWebDriverError@chrome://remote/content/shared/webdriver/Errors.sys.mjs:193:5\nNoSuchElementError@chrome://remote/content/shared/webdriver/Errors.sys.mjs:511:5\ndom.find/</<@chrome://remote/content/shared/DOM.sys.mjs:136:16\n"
     ]
    }
   ],
   "source": [
    "meeting_links = [item.find_element(By.CSS_SELECTOR,\"a[href*=Calendar\") for item in table_rows]\n",
    "for item in table_rows"
   ]
  }
 ],
 "metadata": {
  "kernelspec": {
   "display_name": "Python 3",
   "language": "python",
   "name": "python3"
  },
  "language_info": {
   "codemirror_mode": {
    "name": "ipython",
    "version": 3
   },
   "file_extension": ".py",
   "mimetype": "text/x-python",
   "name": "python",
   "nbconvert_exporter": "python",
   "pygments_lexer": "ipython3",
   "version": "3.9.0"
  },
  "orig_nbformat": 4,
  "vscode": {
   "interpreter": {
    "hash": "41f4603e9ae2ea2a4ec02893be2c0f3b30baca65be1064668a2659ea9f4f6da5"
   }
  }
 },
 "nbformat": 4,
 "nbformat_minor": 2
}
