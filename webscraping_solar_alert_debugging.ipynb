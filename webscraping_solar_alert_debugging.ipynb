{
 "cells": [
  {
   "cell_type": "code",
   "execution_count": 1,
   "metadata": {},
   "outputs": [
    {
     "data": {
      "text/plain": [
       "'Firefox Version'"
      ]
     },
     "execution_count": 1,
     "metadata": {},
     "output_type": "execute_result"
    }
   ],
   "source": [
    "\"\"\"Package Loading\"\"\"\n",
    "\"\"\"General\"\"\"\n",
    "from webscraping_dictionaries import *\n",
    "from webscraping_functions import *\n",
    "#from email.mime.text import MIMEText\n",
    "#from email.mime.multipart import MIMEMultipart\n",
    "\"\"\"Chrome Options\"\"\"\n",
    "#from selenium.webdriver import Chrome \n",
    "#from selenium.webdriver.chrome.service import Service \n",
    "#from webdriver_manager.chrome import ChromeDriverManager\n",
    "\n",
    "\"\"\"Firefox Options\"\"\"\n",
    "#from selenium.webdriver import Firefox\n",
    "#from selenium.webdriver.firefox.service import Service\n",
    "#from webdriver_manager.firefox import GeckoDriverManager\n",
    "\n",
    "\n",
    "\"\"\"Initialize the driver\"\"\"\n",
    "\n",
    "\"\"\"Driver Setup\"\"\"\n",
    "\n",
    "#following steps from here: https://www.zenrows.com/blog/scraping-javascript-rendered-web-pages#installing-the-requirements\n",
    "#critical help using the click method from here https://www.geeksforgeeks.org/click-element-method-selenium-python/\n",
    "\n",
    "\"\"\"Chrome Version\"\"\"\n",
    "#options = webdriver.ChromeOptions()\n",
    "#options.headless = True\n",
    "#options.page_load_strategy = 'none' \n",
    "#chrome_path = ChromeDriverManager().install()\n",
    "#chrome_service = Service(chrome_path)\n",
    "#driver = Chrome(options=options, service=chrome_service) \n",
    "#driver.implicitly_wait(5)\n",
    "\n",
    "\"\"\"Firefox Version\"\"\"  \n",
    "#options = webdriver.FirefoxOptions()\n",
    "#options.headless = True\n",
    "#options.add_argument(\"--headless=new\")\n",
    "#options.page_load_strategy = 'none' \n",
    "#firefox_path = GeckoDriverManager().install() \n",
    "#firefox_service = Service(firefox_path)\n",
    "#driver = Firefox(options=options, service=firefox_service)\n",
    "#driver.implicitly_wait(5)"
   ]
  },
  {
   "cell_type": "markdown",
   "metadata": {},
   "source": [
    "\"\"\"DEBUGGING SANDBOX\"\"\""
   ]
  },
  {
   "cell_type": "code",
   "execution_count": null,
   "metadata": {},
   "outputs": [],
   "source": [
    "#table this for now, since we still want to check for comp plan and ordinance keywords anyway\n",
    "\"Charlotte County Solar Development Page\"\n",
    "def charlotte_county_solar_development():\n",
    "    driver.get(\"https://www.charlottecountyva.gov/departments/planning___zoning/solar_development.php\")\n",
    "    time.sleep(1)\n",
    "    table_rows = driver.find_elements(By.CSS_SELECTOR,\"tr\")\n",
    "    "
   ]
  },
  {
   "cell_type": "code",
   "execution_count": null,
   "metadata": {},
   "outputs": [
    {
     "name": "stderr",
     "output_type": "stream",
     "text": [
      "C:\\Users\\E\\AppData\\Roaming\\Python\\Python312\\site-packages\\dateutil\\parser\\_parser.py:1207: UnknownTimezoneWarning: tzname TH identified but not understood.  Pass `tzinfos` argument in order to correctly return a timezone-aware datetime.  In a future version, this will raise an exception.\n",
      "  warnings.warn(\"tzname {tzname} identified but not understood.  \"\n"
     ]
    }
   ],
   "source": [
    "New_Alerts = []\n",
    "\n",
    "\"Run all the webscraping functions, single thread version\"\n",
    "for item in agendacenter_dictionary:\n",
    "    try:\n",
    "        alert = agendacenter(agendacenter_dictionary[item][0],agendacenter_dictionary[item][1])\n",
    "        if alert != []:\n",
    "            New_Alerts.append(\", \\n \".join(alert))\n",
    "    except:\n",
    "        error_alert = \"Error webscraping \" + item + \" using AgendaCenter code.\"\n",
    "        New_Alerts.append(error_alert)\n",
    "        continue\n",
    "            \n",
    "for item in boarddocs_dictionary:\n",
    "    try:\n",
    "        alert = boarddocs(boarddocs_dictionary[item][0],boarddocs_dictionary[item][1],boarddocs_dictionary[item][2])\n",
    "        if alert != []:\n",
    "            New_Alerts.append(\", \\n \".join(alert))\n",
    "    except:\n",
    "        error_alert = \"Error webscraping \" + item + \" using BoardDocs code.\"\n",
    "        New_Alerts.append(\"\\n\" + error_alert)\n",
    "        continue\n",
    "\n",
    "for item in civicclerk_dictionary:\n",
    "    try:\n",
    "        alert=civicclerk(civicclerk_dictionary[item][0],civicclerk_dictionary[item][1])\n",
    "        if alert != []:\n",
    "            New_Alerts.append(\", \\n \".join(alert))\n",
    "    except:\n",
    "        error_alert=\"Error webscraping \" + item + \" using CivicClerk code\"\n",
    "        New_Alerts.append(error_alert)\n",
    "        continue\n",
    "        \n",
    "for item in civicweb_dictionary:\n",
    "    try:\n",
    "        alert=civicweb(civicweb_dictionary[item][0],civicweb_dictionary[item][1])\n",
    "        if alert != []:\n",
    "            New_Alerts.append(\", \\n \".join(alert))\n",
    "    except:\n",
    "        error_alert=\"Error webscraping \" + item + \" using CivicWeb code\"\n",
    "        New_Alerts.append(error_alert)\n",
    "        continue\n",
    "        \n",
    "for item in document_center_dictionary:\n",
    "    try:\n",
    "        alert=document_center(document_center_dictionary[item][0],document_center_dictionary[item][1])\n",
    "        if alert != []:\n",
    "            New_Alerts.append(\", \\n \".join(alert))\n",
    "    except:\n",
    "        error_alert=\"Error webscraping \" + item + \" using Document Center code\"\n",
    "        New_Alerts.append(error_alert)\n",
    "        continue\n",
    "\n",
    "for item in escribe_dictionary:\n",
    "    try:\n",
    "        alert=escribe(escribe_dictionary[item][0],escribe_dictionary[item][1])\n",
    "        if alert != []:\n",
    "            New_Alerts.append(\", \\n \".join(alert))\n",
    "    except:\n",
    "        error_alert=\"Error webscraping \" + item + \" using EScribe code\"\n",
    "        New_Alerts.append(error_alert)\n",
    "        continue\n",
    "\n",
    "for item in granicus_dictionary:\n",
    "    try:\n",
    "        alert = granicus(granicus_dictionary[item][0],granicus_dictionary[item][1])\n",
    "        if alert != []:\n",
    "            New_Alerts.append(\", \\n \".join(alert))\n",
    "    except:\n",
    "        error_alert = \"Error webscraping \" + item + \" using Granicus code\"\n",
    "        New_Alerts.append(error_alert)\n",
    "        continue\n",
    "        \n",
    "for item in granicus_2_dictionary:\n",
    "    try:\n",
    "        alert = granicus_version_2(granicus_2_dictionary[item][0],granicus_2_dictionary[item][1])\n",
    "        if alert != []:\n",
    "            New_Alerts.append(\", \\n \".join(alert))\n",
    "    except:\n",
    "        error_alert = \"Error webscraping \" + item + \" using Granicus Version 2 code\"\n",
    "        New_Alerts.append(error_alert)\n",
    "        continue\n",
    "\n",
    "for item in laserfiche_dictionary:\n",
    "    try:\n",
    "        alert=laserfiche(laserfiche_dictionary[item][0],laserfiche_dictionary[item][1])\n",
    "        if alert != []:\n",
    "            New_Alerts.append(\", \\n \".join(alert))\n",
    "    except:\n",
    "        error_alert=\"Error webscraping \" + item + \" using LaserFiche code\"\n",
    "        New_Alerts.append(error_alert)\n",
    "        continue\n",
    "\n",
    "for item in legistar_dictionary:\n",
    "    try:\n",
    "        alert=legistar(legistar_dictionary[item][0],legistar_dictionary[item][1])\n",
    "        if alert != []:\n",
    "            New_Alerts.append(\", \\n \".join(alert))\n",
    "    except:\n",
    "        error_alert=\"Error webscraping \" + item + \" using Legistar code\"\n",
    "        New_Alerts.append(error_alert)\n",
    "        continue\n",
    "\n",
    "for item in meetingstable_dictionary:\n",
    "    try:\n",
    "        alert=meetings_table(meetingstable_dictionary[item][0],meetingstable_dictionary[item][1])\n",
    "        if alert != []:\n",
    "            New_Alerts.append(\", \\n \".join(alert))\n",
    "    except:\n",
    "        error_alert=\"Error webscraping \" + item + \" using MeetingsTable code\"\n",
    "        New_Alerts.append(error_alert)\n",
    "        continue\n",
    "\n",
    "for item in novusagenda_dictionary:\n",
    "    try:\n",
    "        alert=novusagenda(novusagenda_dictionary[item][0],novusagenda_dictionary[item][1])\n",
    "        if alert != []:\n",
    "            New_Alerts.append(\", \\n \".join(alert))\n",
    "    except:\n",
    "        error_alert=\"Error webscraping \" + item + \" using NovusAGENDA code\"\n",
    "        New_Alerts.append(error_alert)\n",
    "        continue\n",
    "\n",
    "for item in onbase_dictionary:\n",
    "    try:\n",
    "        alert=onbase(onbase_dictionary[item][0],onbase_dictionary[item][1])\n",
    "        if alert != []:\n",
    "            New_Alerts.append(\", \\n \".join(alert))\n",
    "    except:\n",
    "        error_alert=\"Error webscraping \" + item + \" using OnBase code\"\n",
    "        New_Alerts.append(error_alert)\n",
    "        continue\n",
    "\n",
    "for item in primegov_dictionary:\n",
    "    try:\n",
    "        alert=prime_gov(primegov_dictionary[item][0],primegov_dictionary[item][1])\n",
    "        if alert != []:\n",
    "            New_Alerts.append(\", \\n \".join(alert))\n",
    "    except:\n",
    "        error_alert=\"Error webscraping \" + item + \" using PrimeGov code\"\n",
    "        New_Alerts.append(error_alert)\n",
    "        continue\n",
    "\n",
    "for item in php_table_dictionary:\n",
    "    try:\n",
    "        alert=php_table(php_table_dictionary[item][0],php_table_dictionary[item][1])\n",
    "        if alert != []:\n",
    "            New_Alerts.append(\", \\n \".join(alert))\n",
    "    except:\n",
    "        error_alert=\"Error webscraping \" + item + \" using PHP Table code\"\n",
    "        New_Alerts.append(error_alert)\n",
    "        continue\n",
    "\n",
    "for item in county_dictionary_single_variable:\n",
    "    try:\n",
    "        alert=county_dictionary_single_variable[item][0](county_dictionary_single_variable[item][1])\n",
    "        if alert != []:\n",
    "            New_Alerts.append(\", \\n \".join(alert))\n",
    "    except:\n",
    "        error_alert = \"Error webscraping \" + item\n",
    "        New_Alerts.append(error_alert)\n",
    "        continue\n",
    "\n",
    "for item in county_dictionary_double_variable:\n",
    "    try:\n",
    "        alert=county_dictionary_double_variable[item][0](county_dictionary_double_variable[item][1],county_dictionary_double_variable[item][2])\n",
    "        if alert != []:\n",
    "            New_Alerts.append(\", \\n \".join(alert))\n",
    "    except:\n",
    "        error_alert = \"Error webscraping \" + item\n",
    "        New_Alerts.append(error_alert)\n",
    "        continue\n",
    "\n",
    "for item in city_dictionary_single_variable:\n",
    "    try:\n",
    "        alert=city_dictionary_single_variable[item][0](city_dictionary_single_variable[item][1])\n",
    "        if alert != []:\n",
    "            New_Alerts.append(\", \\n \".join(alert))\n",
    "    except:\n",
    "        error_alert = \"Error webscraping \" + item\n",
    "        New_Alerts.append(error_alert)\n",
    "        continue\n",
    "\n",
    "for item in city_dictionary_double_variable:\n",
    "    try:\n",
    "        alert=city_dictionary_double_variable[item][0](city_dictionary_double_variable[item][1],city_dictionary_double_variable[item][2])\n",
    "        if alert != []:\n",
    "            New_Alerts.append(\", \\n \".join(alert))\n",
    "    except:\n",
    "        error_alert = \"Error webscraping \" + item\n",
    "        New_Alerts.append(error_alert)\n",
    "        continue"
   ]
  },
  {
   "cell_type": "code",
   "execution_count": 3,
   "metadata": {},
   "outputs": [
    {
     "name": "stdout",
     "output_type": "stream",
     "text": [
      "Keyword(s) Comprehensive Plan found in upcoming meeting for Campbell County. https://www.co.campbell.va.us/AgendaCenter/ViewFile/Agenda/_12122024-479?html=true\n",
      "Keyword(s) Zoning Ordinance found in upcoming meeting for Madison County. https://www.madisonco.virginia.gov/AgendaCenter/ViewFile/Agenda/_12172024-244\n",
      "Keyword(s) Zoning Ordinance found in upcoming meeting for Middlesex County. https://www.co.middlesex.va.us/AgendaCenter/ViewFile/Agenda/_12162024-590\n",
      "Keyword(s) Comprehensive Plan, Solar found in upcoming meeting for City of Suffolk. https://www.suffolkva.us/AgendaCenter/ViewFile/Agenda/_12172024-3425, \n",
      " Keyword(s) Comprehensive Plan found in upcoming meeting for City of Suffolk. https://www.suffolkva.us/AgendaCenter/ViewFile/Agenda/_12172024-3426\n",
      "Keyword(s) Zoning Ordinance found in upcoming meeting for Northampton County in Dec 17, 2024 (Tue)\n",
      "Regular Meeting of the Planning Commission of Northampton County VA. https://go.boarddocs.com/va/northco/Board.nsf/Public\n",
      "Keyword(s) Zoning Ordinance found in upcoming meeting for Appomattox County. https://appomattoxcova.portal.civicclerk.com/event/344/files\n",
      "Keyword(s) Solar found in upcoming meeting for Charles City County. https://charlescitycova.portal.civicclerk.com/event/162/files, \n",
      " Keyword(s) Solar, Zoning Ordinance found in upcoming meeting for Charles City County. https://charlescitycova.portal.civicclerk.com/event/163/files\n",
      "Keyword(s) Comprehensive Plan found in upcoming meeting for Chesterfield County. https://chesterfieldcova.portal.civicclerk.com/event/1048/files, \n",
      " Keyword(s) Comprehensive Plan, Zoning Ordinance found in upcoming meeting for Chesterfield County. https://chesterfieldcova.portal.civicclerk.com/event/1023/files, \n",
      " Keyword(s) Comprehensive Plan found in upcoming meeting for Chesterfield County. https://chesterfieldcova.portal.civicclerk.com/event/1049/files, \n",
      " Keyword(s) Zoning Ordinance, Comprehensive Plan found in upcoming meeting for Chesterfield County. https://chesterfieldcova.portal.civicclerk.com/event/1024/files\n",
      "Keyword(s) Zoning Ordinance found in upcoming meeting for Hanover County. https://hanovercova.portal.civicclerk.com/event/1162/files\n",
      "Keyword(s) Solar found in upcoming meeting for James City County. https://jamescitycova.portal.civicclerk.com/event/1301/files\n",
      "Keyword(s) Zoning Ordinance found in upcoming meeting for Louisa County. https://louisacova.portal.civicclerk.com/event/971/files, \n",
      " Keyword(s) Solar found in upcoming meeting for Louisa County. https://louisacova.portal.civicclerk.com/event/860/files, \n",
      " Keyword(s) Solar found in upcoming meeting for Louisa County. https://louisacova.portal.civicclerk.com/event/972/files\n",
      "Keyword(s) Solar, Zoning Ordinance found in upcoming meeting for Mathews County. https://mathewscova.portal.civicclerk.com/event/1513/files\n",
      "Keyword(s) Zoning Ordinance, Comprehensive Plan, Solar found in upcoming meeting for Orange County. https://orangecova.portal.civicclerk.com/event/396/files, \n",
      " Keyword(s) Zoning Ordinance, Comprehensive Plan, Solar found in upcoming meeting for Orange County. https://orangecova.portal.civicclerk.com/event/366/files\n",
      "Keyword(s) Solar, Zoning Ordinance found in upcoming meeting for Scott County. https://scottcova.portal.civicclerk.com/event/12/files, \n",
      " Keyword(s) Comprehensive Plan found in upcoming meeting for Scott County. https://scottcova.portal.civicclerk.com/event/209/files\n",
      "Keyword(s) Zoning Ordinance found in upcoming meeting for City of Winchester. https://winchesterva.civicweb.net/Portal/MeetingInformation.aspx?Id=26780, \n",
      " Keyword(s) Zoning Ordinance, Comprehensive Plan found in upcoming meeting for City of Winchester. https://winchesterva.civicweb.net/Portal/MeetingInformation.aspx?Id=26779, \n",
      " Keyword(s) Comprehensive Plan found in upcoming meeting for City of Winchester. https://winchesterva.civicweb.net/Portal/MeetingInformation.aspx?Id=26778, \n",
      " Keyword(s) Zoning Ordinance, Comprehensive Plan found in upcoming meeting for City of Winchester. https://winchesterva.civicweb.net/Portal/MeetingInformation.aspx?Id=26906, \n",
      " Keyword(s) Zoning Ordinance, Comprehensive Plan found in upcoming meeting for City of Winchester. https://winchesterva.civicweb.net/Portal/MeetingInformation.aspx?Id=26905, \n",
      " Keyword(s) Zoning Ordinance found in upcoming meeting for City of Winchester. https://winchesterva.civicweb.net/Portal/MeetingInformation.aspx?Id=26903, \n",
      " Keyword(s) Zoning Ordinance, Comprehensive Plan found in upcoming meeting for City of Winchester. https://winchesterva.civicweb.net/Portal/MeetingInformation.aspx?Id=26897, \n",
      " Keyword(s) Zoning Ordinance, Comprehensive Plan found in upcoming meeting for City of Winchester. https://winchesterva.civicweb.net/Portal/MeetingInformation.aspx?Id=26896, \n",
      " Keyword(s) Zoning Ordinance found in upcoming meeting for City of Winchester. https://winchesterva.civicweb.net/Portal/MeetingInformation.aspx?Org=Cal&id=26780, \n",
      " Keyword(s) Zoning Ordinance, Comprehensive Plan found in upcoming meeting for City of Winchester. https://winchesterva.civicweb.net/Portal/MeetingInformation.aspx?Org=Cal&id=26779, \n",
      " Keyword(s) Zoning Ordinance, Comprehensive Plan found in upcoming meeting for City of Winchester. https://winchesterva.civicweb.net/Portal/MeetingInformation.aspx?Org=Cal&id=26906, \n",
      " Keyword(s) Comprehensive Plan found in upcoming meeting for City of Winchester. https://winchesterva.civicweb.net/Portal/MeetingInformation.aspx?Org=Cal&id=26778, \n",
      " Keyword(s) Zoning Ordinance, Comprehensive Plan found in upcoming meeting for City of Winchester. https://winchesterva.civicweb.net/Portal/MeetingInformation.aspx?Org=Cal&id=26897, \n",
      " Keyword(s) Zoning Ordinance, Comprehensive Plan found in upcoming meeting for City of Winchester. https://winchesterva.civicweb.net/Portal/MeetingInformation.aspx?Org=Cal&id=26905, \n",
      " Keyword(s) Zoning Ordinance, Comprehensive Plan found in upcoming meeting for City of Winchester. https://winchesterva.civicweb.net/Portal/MeetingInformation.aspx?Org=Cal&id=26896, \n",
      " Keyword(s) Zoning Ordinance found in upcoming meeting for City of Winchester. https://winchesterva.civicweb.net/Portal/MeetingInformation.aspx?Org=Cal&id=26775, \n",
      " Keyword(s) Zoning Ordinance found in upcoming meeting for City of Winchester. https://winchesterva.civicweb.net/Portal/MeetingInformation.aspx?Org=Cal&id=26903\n",
      "Keyword(s) Comprehensive Plan found in upcoming meeting for Frederick County. https://d3n9y02raazwpg.cloudfront.net/fcva/2003f87c-b188-11ef-ab4b-005056a89546-5956d703-dbe5-416c-a420-78cd02939765-1733844383.pdf, \n",
      " Keyword(s) Zoning Ordinance found in upcoming meeting for Frederick County. https://d3n9y02raazwpg.cloudfront.net/fcva/2f0cc921-9e91-11ee-a93d-0050569183fa-5956d703-dbe5-416c-a420-78cd02939765-1733932361.pdf\n",
      "Error webscraping City of Richmond using Legistar code\n",
      "Keyword(s) Zoning Ordinance found in upcoming meeting for Isle of Wight County Board of Supervisors. https://isleofwight.novusagenda.com/agendapublic/MeetingView.aspx?MeetingID=388&MinutesMeetingID=-1&doctype=Agenda\n",
      "Keyword(s) Zoning Ordinance found in upcoming meeting for Arlington County Board. https://meetings.arlingtonva.us/CountyBoard/Meetings/ViewMeeting?id=2467&doctype=1\n",
      "Keyword(s) Comprehensive Plan found in upcoming meeting for Buckingham County Planning Commission. https://www.buckinghamcountyva.org/Document_Center/Agenda%20&%20Minutes/Planning%20Commission/2024/PC%20MEETING%2012.16.pdf\n",
      "Keyword(s) Comprehensive Plan found in upcoming meeting for Smyth County Planning Commission. https://smythcounty.org/Document%20Centers/Agendas%20&%20Minutes/Planning%20Commission%20Agendas%20&%20Minutes/Agendas/December%2019,%202024%20Agenda.pdf\n",
      "Error webscraping Fairfax County Planning Commission\n",
      "Keyword(s) Zoning Ordinance, Comprehensive Plan found in upcoming meeting for Grayson County. https://www.graysoncountyva.gov/wp-content/uploads/2024/12/BoS-12-12-24-Agenda.pdf, \n",
      " Keyword(s) Zoning Ordinance, Comprehensive Plan found in upcoming meeting for Grayson County. https://www.graysoncountyva.gov/wp-content/uploads/2024/12/Binder1.pdf\n",
      "Keyword(s) Zoning Ordinance, Comprehensive Plan found in upcoming meeting for Henrico County in the latest Planning Commission/Board of Zoning Appeals agenda. https://henrico.gov/pdfs/planning/meetnext.pdf\n",
      "Keyword(s) Solar, Comprehensive Plan found in upcoming meeting for Prince Edward County Planning Commission. https://www.co.prince-edward.va.us/home/showpublisheddocument/7325\n",
      "New Board of Supervisors Meeting Agenda posted for Richmond County. Document cannot be scanned for keywords. \n",
      "Error webscraping Tazewell County Planning Commission\n",
      "Keyword(s) Solar found in upcoming meeting for Westmoreland County Planning Commission. https://www.westmoreland-county.org/sites/default/files/2024-12/01Jan06_2025PCAgenda.pdf\n",
      "Keyword(s) Zoning Ordinance found in upcoming meeting for the City of Lexington Planning Commission. https://www.lexingtonva.gov/home/showpublisheddocument/3672/638690893739630000\n",
      "Keyword(s) Comprehensive Plan found in upcoming meeting for Staunton. https://www.ci.staunton.va.us/Home/Components/MeetingsManager/MeetingAgenda/ShowPrimaryDocument/?agendaID=1457&isPub=True&includeTrash=False\n",
      "Error webscraping Virginia Beach City Council\n",
      "New meeting document available for Williamsburg City Council. Document cannot be scanned for keywords. https://williamsburg.civicweb.net/filepro/documents/?preview=207345\n"
     ]
    }
   ],
   "source": [
    "for item in New_Alerts:\n",
    "    print(item)"
   ]
  },
  {
   "cell_type": "code",
   "execution_count": 4,
   "metadata": {},
   "outputs": [],
   "source": [
    "#empty list \n",
    "Solar_Alerts = []\n",
    "Error_Alerts = []\n",
    "Unreadable_File_Alerts = []\n",
    "Other_Alerts = []\n",
    "\n",
    "#loop that checks if the word in the meeting agenda is in the list of keywords...if that happens, append to empty list\n",
    "for message in New_Alerts:\n",
    "    if \"Solar\" in message:\n",
    "        Solar_Alerts.append(message)\n",
    "    elif \"Error\" in message or \"Not Reachable\" in message:\n",
    "        Error_Alerts.append(message)\n",
    "    elif \"scanned\" in message:\n",
    "        Unreadable_File_Alerts.append(message)\n",
    "    else:\n",
    "        Other_Alerts.append(message)\n",
    "\n",
    "# Convert categorized alerts to strings\n",
    "solar_alerts_str = \", \\n\".join(Solar_Alerts)\n",
    "error_alerts_str = \", \\n\".join(Error_Alerts)\n",
    "unread_alerts_str = \", \\n\".join(Unreadable_File_Alerts)\n",
    "other_alerts_str = \", \\n\".join(Other_Alerts)\n"
   ]
  },
  {
   "cell_type": "code",
   "execution_count": 5,
   "metadata": {},
   "outputs": [],
   "source": [
    "alerts = (\"Solar Alerts:\\n\" + solar_alerts_str + \"\\n\\nUnreadable Alerts: \\n\" + unread_alerts_str + \"\\n\\nError Alerts:\\n\" + error_alerts_str + \"\\n\\nOther Alerts:\\n\" + other_alerts_str)"
   ]
  },
  {
   "cell_type": "code",
   "execution_count": 6,
   "metadata": {},
   "outputs": [
    {
     "name": "stdout",
     "output_type": "stream",
     "text": [
      "Solar Alerts:\n",
      "Keyword(s) Comprehensive Plan, Solar found in upcoming meeting for City of Suffolk. https://www.suffolkva.us/AgendaCenter/ViewFile/Agenda/_12172024-3425, \n",
      " Keyword(s) Comprehensive Plan found in upcoming meeting for City of Suffolk. https://www.suffolkva.us/AgendaCenter/ViewFile/Agenda/_12172024-3426, \n",
      "Keyword(s) Solar found in upcoming meeting for Charles City County. https://charlescitycova.portal.civicclerk.com/event/162/files, \n",
      " Keyword(s) Solar, Zoning Ordinance found in upcoming meeting for Charles City County. https://charlescitycova.portal.civicclerk.com/event/163/files, \n",
      "Keyword(s) Solar found in upcoming meeting for James City County. https://jamescitycova.portal.civicclerk.com/event/1301/files, \n",
      "Keyword(s) Zoning Ordinance found in upcoming meeting for Louisa County. https://louisacova.portal.civicclerk.com/event/971/files, \n",
      " Keyword(s) Solar found in upcoming meeting for Louisa County. https://louisacova.portal.civicclerk.com/event/860/files, \n",
      " Keyword(s) Solar found in upcoming meeting for Louisa County. https://louisacova.portal.civicclerk.com/event/972/files, \n",
      "Keyword(s) Solar, Zoning Ordinance found in upcoming meeting for Mathews County. https://mathewscova.portal.civicclerk.com/event/1513/files, \n",
      "Keyword(s) Zoning Ordinance, Comprehensive Plan, Solar found in upcoming meeting for Orange County. https://orangecova.portal.civicclerk.com/event/396/files, \n",
      " Keyword(s) Zoning Ordinance, Comprehensive Plan, Solar found in upcoming meeting for Orange County. https://orangecova.portal.civicclerk.com/event/366/files, \n",
      "Keyword(s) Solar, Zoning Ordinance found in upcoming meeting for Scott County. https://scottcova.portal.civicclerk.com/event/12/files, \n",
      " Keyword(s) Comprehensive Plan found in upcoming meeting for Scott County. https://scottcova.portal.civicclerk.com/event/209/files, \n",
      "Keyword(s) Solar, Comprehensive Plan found in upcoming meeting for Prince Edward County Planning Commission. https://www.co.prince-edward.va.us/home/showpublisheddocument/7325, \n",
      "Keyword(s) Solar found in upcoming meeting for Westmoreland County Planning Commission. https://www.westmoreland-county.org/sites/default/files/2024-12/01Jan06_2025PCAgenda.pdf\n",
      "\n",
      "Unreadable Alerts: \n",
      "New Board of Supervisors Meeting Agenda posted for Richmond County. Document cannot be scanned for keywords. , \n",
      "New meeting document available for Williamsburg City Council. Document cannot be scanned for keywords. https://williamsburg.civicweb.net/filepro/documents/?preview=207345\n",
      "\n",
      "Error Alerts:\n",
      "Error webscraping City of Richmond using Legistar code, \n",
      "Error webscraping Fairfax County Planning Commission, \n",
      "Error webscraping Tazewell County Planning Commission, \n",
      "Error webscraping Virginia Beach City Council\n",
      "\n",
      "Other Alerts:\n",
      "Keyword(s) Comprehensive Plan found in upcoming meeting for Campbell County. https://www.co.campbell.va.us/AgendaCenter/ViewFile/Agenda/_12122024-479?html=true, \n",
      "Keyword(s) Zoning Ordinance found in upcoming meeting for Madison County. https://www.madisonco.virginia.gov/AgendaCenter/ViewFile/Agenda/_12172024-244, \n",
      "Keyword(s) Zoning Ordinance found in upcoming meeting for Middlesex County. https://www.co.middlesex.va.us/AgendaCenter/ViewFile/Agenda/_12162024-590, \n",
      "Keyword(s) Zoning Ordinance found in upcoming meeting for Northampton County in Dec 17, 2024 (Tue)\n",
      "Regular Meeting of the Planning Commission of Northampton County VA. https://go.boarddocs.com/va/northco/Board.nsf/Public, \n",
      "Keyword(s) Zoning Ordinance found in upcoming meeting for Appomattox County. https://appomattoxcova.portal.civicclerk.com/event/344/files, \n",
      "Keyword(s) Comprehensive Plan found in upcoming meeting for Chesterfield County. https://chesterfieldcova.portal.civicclerk.com/event/1048/files, \n",
      " Keyword(s) Comprehensive Plan, Zoning Ordinance found in upcoming meeting for Chesterfield County. https://chesterfieldcova.portal.civicclerk.com/event/1023/files, \n",
      " Keyword(s) Comprehensive Plan found in upcoming meeting for Chesterfield County. https://chesterfieldcova.portal.civicclerk.com/event/1049/files, \n",
      " Keyword(s) Zoning Ordinance, Comprehensive Plan found in upcoming meeting for Chesterfield County. https://chesterfieldcova.portal.civicclerk.com/event/1024/files, \n",
      "Keyword(s) Zoning Ordinance found in upcoming meeting for Hanover County. https://hanovercova.portal.civicclerk.com/event/1162/files, \n",
      "Keyword(s) Zoning Ordinance found in upcoming meeting for City of Winchester. https://winchesterva.civicweb.net/Portal/MeetingInformation.aspx?Id=26780, \n",
      " Keyword(s) Zoning Ordinance, Comprehensive Plan found in upcoming meeting for City of Winchester. https://winchesterva.civicweb.net/Portal/MeetingInformation.aspx?Id=26779, \n",
      " Keyword(s) Comprehensive Plan found in upcoming meeting for City of Winchester. https://winchesterva.civicweb.net/Portal/MeetingInformation.aspx?Id=26778, \n",
      " Keyword(s) Zoning Ordinance, Comprehensive Plan found in upcoming meeting for City of Winchester. https://winchesterva.civicweb.net/Portal/MeetingInformation.aspx?Id=26906, \n",
      " Keyword(s) Zoning Ordinance, Comprehensive Plan found in upcoming meeting for City of Winchester. https://winchesterva.civicweb.net/Portal/MeetingInformation.aspx?Id=26905, \n",
      " Keyword(s) Zoning Ordinance found in upcoming meeting for City of Winchester. https://winchesterva.civicweb.net/Portal/MeetingInformation.aspx?Id=26903, \n",
      " Keyword(s) Zoning Ordinance, Comprehensive Plan found in upcoming meeting for City of Winchester. https://winchesterva.civicweb.net/Portal/MeetingInformation.aspx?Id=26897, \n",
      " Keyword(s) Zoning Ordinance, Comprehensive Plan found in upcoming meeting for City of Winchester. https://winchesterva.civicweb.net/Portal/MeetingInformation.aspx?Id=26896, \n",
      " Keyword(s) Zoning Ordinance found in upcoming meeting for City of Winchester. https://winchesterva.civicweb.net/Portal/MeetingInformation.aspx?Org=Cal&id=26780, \n",
      " Keyword(s) Zoning Ordinance, Comprehensive Plan found in upcoming meeting for City of Winchester. https://winchesterva.civicweb.net/Portal/MeetingInformation.aspx?Org=Cal&id=26779, \n",
      " Keyword(s) Zoning Ordinance, Comprehensive Plan found in upcoming meeting for City of Winchester. https://winchesterva.civicweb.net/Portal/MeetingInformation.aspx?Org=Cal&id=26906, \n",
      " Keyword(s) Comprehensive Plan found in upcoming meeting for City of Winchester. https://winchesterva.civicweb.net/Portal/MeetingInformation.aspx?Org=Cal&id=26778, \n",
      " Keyword(s) Zoning Ordinance, Comprehensive Plan found in upcoming meeting for City of Winchester. https://winchesterva.civicweb.net/Portal/MeetingInformation.aspx?Org=Cal&id=26897, \n",
      " Keyword(s) Zoning Ordinance, Comprehensive Plan found in upcoming meeting for City of Winchester. https://winchesterva.civicweb.net/Portal/MeetingInformation.aspx?Org=Cal&id=26905, \n",
      " Keyword(s) Zoning Ordinance, Comprehensive Plan found in upcoming meeting for City of Winchester. https://winchesterva.civicweb.net/Portal/MeetingInformation.aspx?Org=Cal&id=26896, \n",
      " Keyword(s) Zoning Ordinance found in upcoming meeting for City of Winchester. https://winchesterva.civicweb.net/Portal/MeetingInformation.aspx?Org=Cal&id=26775, \n",
      " Keyword(s) Zoning Ordinance found in upcoming meeting for City of Winchester. https://winchesterva.civicweb.net/Portal/MeetingInformation.aspx?Org=Cal&id=26903, \n",
      "Keyword(s) Comprehensive Plan found in upcoming meeting for Frederick County. https://d3n9y02raazwpg.cloudfront.net/fcva/2003f87c-b188-11ef-ab4b-005056a89546-5956d703-dbe5-416c-a420-78cd02939765-1733844383.pdf, \n",
      " Keyword(s) Zoning Ordinance found in upcoming meeting for Frederick County. https://d3n9y02raazwpg.cloudfront.net/fcva/2f0cc921-9e91-11ee-a93d-0050569183fa-5956d703-dbe5-416c-a420-78cd02939765-1733932361.pdf, \n",
      "Keyword(s) Zoning Ordinance found in upcoming meeting for Isle of Wight County Board of Supervisors. https://isleofwight.novusagenda.com/agendapublic/MeetingView.aspx?MeetingID=388&MinutesMeetingID=-1&doctype=Agenda, \n",
      "Keyword(s) Zoning Ordinance found in upcoming meeting for Arlington County Board. https://meetings.arlingtonva.us/CountyBoard/Meetings/ViewMeeting?id=2467&doctype=1, \n",
      "Keyword(s) Comprehensive Plan found in upcoming meeting for Buckingham County Planning Commission. https://www.buckinghamcountyva.org/Document_Center/Agenda%20&%20Minutes/Planning%20Commission/2024/PC%20MEETING%2012.16.pdf, \n",
      "Keyword(s) Comprehensive Plan found in upcoming meeting for Smyth County Planning Commission. https://smythcounty.org/Document%20Centers/Agendas%20&%20Minutes/Planning%20Commission%20Agendas%20&%20Minutes/Agendas/December%2019,%202024%20Agenda.pdf, \n",
      "Keyword(s) Zoning Ordinance, Comprehensive Plan found in upcoming meeting for Grayson County. https://www.graysoncountyva.gov/wp-content/uploads/2024/12/BoS-12-12-24-Agenda.pdf, \n",
      " Keyword(s) Zoning Ordinance, Comprehensive Plan found in upcoming meeting for Grayson County. https://www.graysoncountyva.gov/wp-content/uploads/2024/12/Binder1.pdf, \n",
      "Keyword(s) Zoning Ordinance, Comprehensive Plan found in upcoming meeting for Henrico County in the latest Planning Commission/Board of Zoning Appeals agenda. https://henrico.gov/pdfs/planning/meetnext.pdf, \n",
      "Keyword(s) Zoning Ordinance found in upcoming meeting for the City of Lexington Planning Commission. https://www.lexingtonva.gov/home/showpublisheddocument/3672/638690893739630000, \n",
      "Keyword(s) Comprehensive Plan found in upcoming meeting for Staunton. https://www.ci.staunton.va.us/Home/Components/MeetingsManager/MeetingAgenda/ShowPrimaryDocument/?agendaID=1457&isPub=True&includeTrash=False\n"
     ]
    }
   ],
   "source": [
    "print(alerts)"
   ]
  },
  {
   "cell_type": "code",
   "execution_count": null,
   "metadata": {},
   "outputs": [],
   "source": [
    "#come back to this another day\n",
    "all_dictionaries=[agendacenter_dictionary,boarddocs_dictionary,civicclerk_dictionary,civicweb_dictionary,document_center_dictionary,escribe_dictionary,granicus_dictionary,granicus_2_dictionary,laserfiche_dictionary,legistar_dictionary,meetingstable_dictionary,novusagenda_dictionary,php_table_dictionary,primegov_dictionary,county_dictionary_single_variable,county_dictionary_double_variable,city_dictionary_single_variable,city_dictionary_double_variable]\n",
    "\n",
    "for dictionary in all_dictionaries:\n",
    "    for entry in dictionary:\n",
    "        print(entry)"
   ]
  },
  {
   "cell_type": "code",
   "execution_count": null,
   "metadata": {},
   "outputs": [],
   "source": [
    "#reconfiguring how the scraping methods work\n",
    "#leverage object oriented programming and the possibilities of functions\n",
    "#currently, each website has its own custom function, and the repeated document sharing websites have their own customized function as well\n",
    "#few repeated functions despite potential for more, and for better generalization\n",
    "#inconsistent methodoloy that evolved over time as I kept remaking the functions from scratch\n",
    "#potential to take the common steps and turn those into functions rather than having them rewritten dozens of times\n",
    "#opportunities to keep optimizing"
   ]
  },
  {
   "cell_type": "code",
   "execution_count": null,
   "metadata": {},
   "outputs": [],
   "source": [
    "\"\"\"AgendaCenter\"\"\"\n",
    "def agendacenter(locality):\n",
    "    driver.get(agendacenter_dictionary[locality]['url'])\n",
    "    time.sleep(5)\n",
    "    table_rows = driver.find_elements(By.CSS_SELECTOR, meetings_tags['agendacenter'])\n",
    "    future_meetings = [item for item in table_rows if check_meeting_date(search_dates(item.text,languages=['en'])[0][0])==True]\n",
    "    agenda_links = [item.find_elements(By.CSS_SELECTOR,\"a\")[1].get_attribute(\"href\") for item in future_meetings]\n",
    "    if agendacenter_dictionary[locality][1]=='pdf':\n",
    "        messages = search_pdf(agenda_links,locality)\n",
    "    if agendacenter_dictionary[locality][1]=='webpage'\n",
    "    return messages"
   ]
  },
  {
   "cell_type": "code",
   "execution_count": 6,
   "metadata": {},
   "outputs": [
    {
     "data": {
      "text/plain": [
       "{'url': 'https://www.botetourtva.gov/AgendaCenter/Search/?term=&CIDs=3,8,6,&startDate=&endDate=&dateRange=&dateSelector=',\n",
       " 'agenda_type': 'pdf'}"
      ]
     },
     "execution_count": 6,
     "metadata": {},
     "output_type": "execute_result"
    }
   ],
   "source": [
    "agendacenter_dictionary['Botetourt County']"
   ]
  },
  {
   "cell_type": "code",
   "execution_count": null,
   "metadata": {},
   "outputs": [],
   "source": [
    "def search_pdf(meeting_links_list, locality):\n",
    "    messages=[]\n",
    "    for item in meeting_links_list:\n",
    "        driver.get(item)\n",
    "        time.sleep(60)\n",
    "        keywords = []\n",
    "        pages = driver.find_elements(By.CSS_SELECTOR,\"div[class*=page\")\n",
    "        for page in pages:\n",
    "            driver.execute_script(\"arguments[0].scrollIntoView();\", page)\n",
    "            time.sleep(5)\n",
    "            agenda_content = driver.find_elements(By.CSS_SELECTOR,'div[class*=textLayer')\n",
    "            readable = check_readability(agenda_content)\n",
    "            if readable==True:\n",
    "                agenda_search = search_agenda_for_keywords(agenda_content)\n",
    "                if agenda_search != []:\n",
    "                    keywords += agenda_search\n",
    "            elif readable==False:\n",
    "                messages.append(\"New meeting document available for \" + locality + \". Part of the document cannot be scanned for keywords. \" + item)\n",
    "        if keywords != []:\n",
    "            unique_keywords = pd.Series(keywords).unique().tolist()\n",
    "            messages.append(\"Keyword(s) \" + \", \".join(unique_keywords) + \" found in upcoming meeting for \" + locality + \". \" + item)\n",
    "    return pd.Series(messages).unique().tolist()"
   ]
  },
  {
   "cell_type": "code",
   "execution_count": null,
   "metadata": {},
   "outputs": [],
   "source": [
    "driver.get(\"https://www.waynesboro.va.us/AgendaCenter/Search/?term=&CIDs=7,1,4,&startDate=&endDate=&dateRange=&dateSelector=\")"
   ]
  },
  {
   "cell_type": "code",
   "execution_count": null,
   "metadata": {},
   "outputs": [],
   "source": [
    "table_rows = driver.find_elements(By.CSS_SELECTOR, meetings_tags['agendacenter'])"
   ]
  },
  {
   "cell_type": "code",
   "execution_count": null,
   "metadata": {},
   "outputs": [
    {
     "data": {
      "text/plain": [
       "'Dec 3, 2024\\nBoard of Supervisors Meeting Agenda - December 3, 2024\\nDownload ▼'"
      ]
     },
     "execution_count": 21,
     "metadata": {},
     "output_type": "execute_result"
    }
   ],
   "source": [
    "check_meeting_date(search_dates(table_rows[0].text,languages=['en'])[0][0])"
   ]
  },
  {
   "cell_type": "code",
   "execution_count": null,
   "metadata": {},
   "outputs": [
    {
     "data": {
      "text/plain": [
       "False"
      ]
     },
     "execution_count": 22,
     "metadata": {},
     "output_type": "execute_result"
    }
   ],
   "source": [
    "future_meetings = [item for item in table_rows if check_meeting_date(search_dates(item.text,languages=['en'])[0][0])==True]"
   ]
  },
  {
   "cell_type": "code",
   "execution_count": null,
   "metadata": {},
   "outputs": [],
   "source": [
    "agenda_links = [item.find_elements(By.CSS_SELECTOR,\"a\")[1].get_attribute(\"href\") for item in future_meetings]"
   ]
  },
  {
   "cell_type": "code",
   "execution_count": null,
   "metadata": {},
   "outputs": [],
   "source": [
    "agenda_links"
   ]
  },
  {
   "cell_type": "code",
   "execution_count": null,
   "metadata": {},
   "outputs": [
    {
     "data": {
      "text/plain": [
       "['Keyword(s) Zoning Ordinance found in upcoming meeting for York County. https://www.yorkcounty.gov/AgendaCenter/ViewFile/Agenda/_12032024-1138']"
      ]
     },
     "execution_count": 26,
     "metadata": {},
     "output_type": "execute_result"
    }
   ],
   "source": [
    "search_pdf([agenda_links[0]],\"City of Suffolk\")"
   ]
  },
  {
   "cell_type": "code",
   "execution_count": 2,
   "metadata": {},
   "outputs": [
    {
     "data": {
      "text/plain": [
       "''"
      ]
     },
     "execution_count": 2,
     "metadata": {},
     "output_type": "execute_result"
    }
   ],
   "source": [
    "#AgendaCenter Strategy:\n",
    "\"\"\"\n",
    "* = I should make this a function\n",
    "\n",
    "1: *navigate to the locality archives url\n",
    "2: *wait for the page to load enough for the desired content to appear\n",
    "3: create the empty messages list\n",
    "4: locate the rows of meeting titles\n",
    "5: filter for meetings happening in the future\n",
    "    5a: two common string formats with AgendaCenter, need to split the date string or it throws an error (search for a package or class or function that does this automatically)\n",
    "6: collect the links for the agendas for future meetings out of the meeting information rows\n",
    "7: go through each agenda link \n",
    "    7a: *navigate to the agenda url\n",
    "    7b: *wait for the content to load\n",
    "    7c: collect the content tags (the page-by-page PDF search for content that loads on scroll should be part of this)\n",
    "        7c1: if the textLayer tag doesn't exist, it's probably a web page not a PDF, and collect this commonly used webpage content tag instead\n",
    "    7d: for a PDF, check that there is text in the content tags, otherwise it's likely an unsearchable scan\n",
    "        7d1: if there is text in the content tags, search the text for the specified keywords\n",
    "        7d2: if the search result is not empty, add an alert message and provide the agenda url\n",
    "    7e: if there is no text in the content tags, provide an \"unreadable\" messaage and a link to the agenda for manual review\n",
    "8: return any alert messages\n",
    "\"\"\"\n",
    "\n",
    "\n"
   ]
  }
 ],
 "metadata": {
  "kernelspec": {
   "display_name": "Python 3",
   "language": "python",
   "name": "python3"
  },
  "language_info": {
   "codemirror_mode": {
    "name": "ipython",
    "version": 3
   },
   "file_extension": ".py",
   "mimetype": "text/x-python",
   "name": "python",
   "nbconvert_exporter": "python",
   "pygments_lexer": "ipython3",
   "version": "3.12.2"
  },
  "orig_nbformat": 4,
  "vscode": {
   "interpreter": {
    "hash": "41f4603e9ae2ea2a4ec02893be2c0f3b30baca65be1064668a2659ea9f4f6da5"
   }
  }
 },
 "nbformat": 4,
 "nbformat_minor": 2
}
