{
 "cells": [
  {
   "cell_type": "code",
   "execution_count": 1,
   "metadata": {},
   "outputs": [
    {
     "data": {
      "text/plain": [
       "'Firefox Version'"
      ]
     },
     "execution_count": 1,
     "metadata": {},
     "output_type": "execute_result"
    }
   ],
   "source": [
    "\"\"\"Package Loading\"\"\"\n",
    "\"\"\"General\"\"\"\n",
    "from webscraping_dictionaries import *\n",
    "from webscraping_functions import *\n",
    "import time\n",
    "from dateutil import relativedelta\n",
    "from datetime import datetime\n",
    "from selenium import webdriver\n",
    "from selenium.webdriver.common.by import By  \n",
    "import requests\n",
    "import smtplib\n",
    "from email.mime.text import MIMEText\n",
    "from email.mime.multipart import MIMEMultipart\n",
    "import ssl\n",
    "import os\n",
    "#import dotenv\n",
    "\"\"\"Chrome Options\"\"\"\n",
    "#from selenium.webdriver import Chrome \n",
    "#from selenium.webdriver.chrome.service import Service \n",
    "#from webdriver_manager.chrome import ChromeDriverManager\n",
    "\n",
    "\"\"\"Firefox Options\"\"\"\n",
    "#from selenium.webdriver import Firefox\n",
    "#from selenium.webdriver.firefox.service import Service\n",
    "#from webdriver_manager.firefox import GeckoDriverManager\n",
    "\n",
    "\n",
    "\"\"\"Initialize the driver\"\"\"\n",
    "\n",
    "\"\"\"Driver Setup\"\"\"\n",
    "\n",
    "#following steps from here: https://www.zenrows.com/blog/scraping-javascript-rendered-web-pages#installing-the-requirements\n",
    "#critical help using the click method from here https://www.geeksforgeeks.org/click-element-method-selenium-python/\n",
    "\n",
    "\"\"\"Chrome Version\"\"\"\n",
    "#options = webdriver.ChromeOptions()\n",
    "#options.headless = True\n",
    "#options.page_load_strategy = 'none' \n",
    "#chrome_path = ChromeDriverManager().install()\n",
    "#chrome_service = Service(chrome_path)\n",
    "#driver = Chrome(options=options, service=chrome_service) \n",
    "#driver.implicitly_wait(5)\n",
    "\n",
    "\"\"\"Firefox Version\"\"\"  \n",
    "#options = webdriver.FirefoxOptions()\n",
    "#options.headless = True\n",
    "#options.add_argument(\"--headless=new\")\n",
    "#options.page_load_strategy = 'none' \n",
    "#firefox_path = GeckoDriverManager().install() \n",
    "#firefox_service = Service(firefox_path)\n",
    "#driver = Firefox(options=options, service=firefox_service)\n",
    "#driver.implicitly_wait(5)"
   ]
  },
  {
   "cell_type": "markdown",
   "metadata": {},
   "source": [
    "\"\"\"DEBUGGING SANDBOX\"\"\""
   ]
  },
  {
   "cell_type": "code",
   "execution_count": null,
   "metadata": {},
   "outputs": [],
   "source": [
    "#table this for now, since we still want to check for comp plan and ordinance keywords anyway\n",
    "\"Charlotte County Solar Development Page\"\n",
    "def charlotte_county_solar_development():\n",
    "    driver.get(\"https://www.charlottecountyva.gov/departments/planning___zoning/solar_development.php\")\n",
    "    time.sleep(1)\n",
    "    table_rows = driver.find_elements(By.CSS_SELECTOR,\"tr\")\n",
    "    "
   ]
  },
  {
   "cell_type": "code",
   "execution_count": null,
   "metadata": {},
   "outputs": [],
   "source": [
    "#come back to this another day\n",
    "all_dictionaries=[agendacenter_dictionary,boarddocs_dictionary,civicclerk_dictionary,civicweb_dictionary,document_center_dictionary,escribe_dictionary,event_list_dictionary,granicus_dictionary,granicus_2_dictionary,laserfiche_dictionary,legistar_dictionary,meetingstable_dictionary,novusagenda_dictionary,php_table_dictionary,primegov_dictionary,county_dictionary_single_variable,county_dictionary_double_variable,city_dictionary_single_variable,city_dictionary_double_variable]\n",
    "\n",
    "for dictionary in all_dictionaries:\n",
    "    for entry in dictionary:\n",
    "        print(entry)"
   ]
  },
  {
   "cell_type": "code",
   "execution_count": null,
   "metadata": {},
   "outputs": [],
   "source": [
    "\"\"\"Essex County PC\"\"\"\n",
    "def essex_pc(url):\n",
    "    driver.get(url)\n",
    "    time.sleep(5)\n",
    "    messages = []\n",
    "    all_rows = driver.find_elements(By.CSS_SELECTOR,\"div[class*='views-row'\")\n",
    "    future_meetings = []\n",
    "    for item in all_rows:\n",
    "        try:\n",
    "            future_meeting = check_meeting_date(item.text.split(\"-\")[0])\n",
    "            if future_meeting==True:\n",
    "                future_meetings.append(item)\n",
    "        except:\n",
    "            continue\n",
    "    agenda_links = []\n",
    "    for item in future_meetings:\n",
    "        try:\n",
    "            agenda_links.append(item.find_element(By.CSS_SELECTOR,\"a[title*=Agenda\").get_attribute(\"href\"))\n",
    "        except:\n",
    "            #throws an error of no links are posted yet, so do this and keep going to keep the indices aligned\n",
    "            agenda_links.append(None)\n",
    "    for item in agenda_links:\n",
    "        if item != None:\n",
    "            driver.get(item)\n",
    "            time.sleep(2)\n",
    "            agenda_content = driver.find_elements(By.CSS_SELECTOR,\"div[class*=textLayer\")\n",
    "            agenda_search = search_agenda_for_keywords(agenda_content)\n",
    "            if agenda_search != []:\n",
    "                messages.append(\"Keyword(s) \" + \", \".join(agenda_search) + \" found in upcoming meeting for Essex County Planning Commission. \" + item)\n",
    "    return messages"
   ]
  },
  {
   "cell_type": "code",
   "execution_count": 55,
   "metadata": {},
   "outputs": [],
   "source": [
    "driver.get(\"https://www.essex-virginia.org/meetings?date_filter%5Bvalue%5D%5Bmonth%5D=1&date_filter%5Bvalue%5D%5Bday%5D=1&date_filter%5Bvalue%5D%5Byear%5D=2023&date_filter_1%5Bvalue%5D%5Bmonth%5D=12&date_filter_1%5Bvalue%5D%5Bday%5D=31&date_filter_1%5Bvalue%5D%5Byear%5D=2023&field_microsite_tid=All&field_microsite_tid_1=28\")"
   ]
  },
  {
   "cell_type": "code",
   "execution_count": 61,
   "metadata": {},
   "outputs": [],
   "source": [
    "all_rows = driver.find_elements(By.CSS_SELECTOR,\"div[class*='views-row'\")"
   ]
  },
  {
   "cell_type": "code",
   "execution_count": 69,
   "metadata": {},
   "outputs": [],
   "source": [
    "    future_meetings = []\n",
    "    for item in all_rows:\n",
    "        try:\n",
    "            future_meeting = check_meeting_date(item.text.split(\"-\")[0])\n",
    "            if future_meeting==True:\n",
    "                future_meetings.append(item)\n",
    "        except:\n",
    "            continue"
   ]
  },
  {
   "cell_type": "code",
   "execution_count": 70,
   "metadata": {},
   "outputs": [
    {
     "data": {
      "text/plain": [
       "[<selenium.webdriver.remote.webelement.WebElement (session=\"33f1d0f5-170d-444a-98d5-6a75f9e26b60\", element=\"5e0f3245-226f-4405-a4bd-d59783f86efc\")>,\n",
       " <selenium.webdriver.remote.webelement.WebElement (session=\"33f1d0f5-170d-444a-98d5-6a75f9e26b60\", element=\"cb5a3642-492a-4cc3-ae9f-ceec00b691a4\")>,\n",
       " <selenium.webdriver.remote.webelement.WebElement (session=\"33f1d0f5-170d-444a-98d5-6a75f9e26b60\", element=\"515f65c1-16fe-4e55-9dcd-4bfaca671f23\")>,\n",
       " <selenium.webdriver.remote.webelement.WebElement (session=\"33f1d0f5-170d-444a-98d5-6a75f9e26b60\", element=\"a3676d46-d2b6-4b56-8ec0-a3681bdb2ed0\")>,\n",
       " <selenium.webdriver.remote.webelement.WebElement (session=\"33f1d0f5-170d-444a-98d5-6a75f9e26b60\", element=\"cf5a3770-65e8-431d-b8a9-b5a02026424d\")>,\n",
       " <selenium.webdriver.remote.webelement.WebElement (session=\"33f1d0f5-170d-444a-98d5-6a75f9e26b60\", element=\"06cef275-75e3-4a07-8e5d-d4aacaa5dfd4\")>,\n",
       " <selenium.webdriver.remote.webelement.WebElement (session=\"33f1d0f5-170d-444a-98d5-6a75f9e26b60\", element=\"b048e026-5767-4926-a6fa-4e423e270430\")>,\n",
       " <selenium.webdriver.remote.webelement.WebElement (session=\"33f1d0f5-170d-444a-98d5-6a75f9e26b60\", element=\"ede9a217-556b-40d2-8fbe-4f4ba98d29e6\")>]"
      ]
     },
     "execution_count": 70,
     "metadata": {},
     "output_type": "execute_result"
    }
   ],
   "source": [
    "future_meetings"
   ]
  }
 ],
 "metadata": {
  "kernelspec": {
   "display_name": "Python 3",
   "language": "python",
   "name": "python3"
  },
  "language_info": {
   "codemirror_mode": {
    "name": "ipython",
    "version": 3
   },
   "file_extension": ".py",
   "mimetype": "text/x-python",
   "name": "python",
   "nbconvert_exporter": "python",
   "pygments_lexer": "ipython3",
   "version": "3.9.0"
  },
  "orig_nbformat": 4,
  "vscode": {
   "interpreter": {
    "hash": "41f4603e9ae2ea2a4ec02893be2c0f3b30baca65be1064668a2659ea9f4f6da5"
   }
  }
 },
 "nbformat": 4,
 "nbformat_minor": 2
}
