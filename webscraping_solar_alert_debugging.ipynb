{
 "cells": [
  {
   "cell_type": "code",
   "execution_count": 1,
   "metadata": {},
   "outputs": [
    {
     "data": {
      "text/plain": [
       "'Firefox Version'"
      ]
     },
     "execution_count": 1,
     "metadata": {},
     "output_type": "execute_result"
    }
   ],
   "source": [
    "\"\"\"Package Loading\"\"\"\n",
    "\"\"\"General\"\"\"\n",
    "from webscraping_dictionaries import *\n",
    "from webscraping_functions import *\n",
    "import time\n",
    "from dateutil import relativedelta\n",
    "from datetime import datetime\n",
    "from selenium import webdriver\n",
    "from selenium.webdriver.common.by import By  \n",
    "import requests\n",
    "import smtplib\n",
    "from email.mime.text import MIMEText\n",
    "from email.mime.multipart import MIMEMultipart\n",
    "import ssl\n",
    "import os\n",
    "#import dotenv\n",
    "\"\"\"Chrome Options\"\"\"\n",
    "#from selenium.webdriver import Chrome \n",
    "#from selenium.webdriver.chrome.service import Service \n",
    "#from webdriver_manager.chrome import ChromeDriverManager\n",
    "\n",
    "\"\"\"Firefox Options\"\"\"\n",
    "#from selenium.webdriver import Firefox\n",
    "#from selenium.webdriver.firefox.service import Service\n",
    "#from webdriver_manager.firefox import GeckoDriverManager\n",
    "\n",
    "\n",
    "\"\"\"Initialize the driver\"\"\"\n",
    "\n",
    "\"\"\"Driver Setup\"\"\"\n",
    "\n",
    "#following steps from here: https://www.zenrows.com/blog/scraping-javascript-rendered-web-pages#installing-the-requirements\n",
    "#critical help using the click method from here https://www.geeksforgeeks.org/click-element-method-selenium-python/\n",
    "\n",
    "\"\"\"Chrome Version\"\"\"\n",
    "#options = webdriver.ChromeOptions()\n",
    "#options.headless = True\n",
    "#options.page_load_strategy = 'none' \n",
    "#chrome_path = ChromeDriverManager().install()\n",
    "#chrome_service = Service(chrome_path)\n",
    "#driver = Chrome(options=options, service=chrome_service) \n",
    "#driver.implicitly_wait(5)\n",
    "\n",
    "\"\"\"Firefox Version\"\"\"  \n",
    "#options = webdriver.FirefoxOptions()\n",
    "#options.headless = True\n",
    "#options.add_argument(\"--headless=new\")\n",
    "#options.page_load_strategy = 'none' \n",
    "#firefox_path = GeckoDriverManager().install() \n",
    "#firefox_service = Service(firefox_path)\n",
    "#driver = Firefox(options=options, service=firefox_service)\n",
    "#driver.implicitly_wait(5)"
   ]
  },
  {
   "cell_type": "markdown",
   "metadata": {},
   "source": [
    "\"\"\"DEBUGGING SANDBOX\"\"\""
   ]
  },
  {
   "cell_type": "code",
   "execution_count": null,
   "metadata": {},
   "outputs": [],
   "source": [
    "#table this for now, since we still want to check for comp plan and ordinance keywords anyway\n",
    "\"Charlotte County Solar Development Page\"\n",
    "def charlotte_county_solar_development():\n",
    "    driver.get(\"https://www.charlottecountyva.gov/departments/planning___zoning/solar_development.php\")\n",
    "    time.sleep(1)\n",
    "    table_rows = driver.find_elements(By.CSS_SELECTOR,\"tr\")\n",
    "    "
   ]
  },
  {
   "cell_type": "code",
   "execution_count": null,
   "metadata": {},
   "outputs": [],
   "source": [
    "all_dictionaries=[agendacenter_dictionary,boarddocs_dictionary,civicclerk_dictionary,civicweb_dictionary,document_center_dictionary,escribe_dictionary,event_list_dictionary,granicus_dictionary,granicus_2_dictionary,laserfiche_dictionary,legistar_dictionary,meetingstable_dictionary,novusagenda_dictionary,php_table_dictionary,primegov_dictionary,county_dictionary_single_variable,county_dictionary_double_variable,city_dictionary_single_variable,city_dictionary_double_variable]"
   ]
  },
  {
   "cell_type": "code",
   "execution_count": null,
   "metadata": {},
   "outputs": [],
   "source": [
    "for dictionary in all_dictionaries:\n",
    "    for entry in dictionary:\n",
    "        print(entry)"
   ]
  }
 ],
 "metadata": {
  "kernelspec": {
   "display_name": "Python 3",
   "language": "python",
   "name": "python3"
  },
  "language_info": {
   "codemirror_mode": {
    "name": "ipython",
    "version": 3
   },
   "file_extension": ".py",
   "mimetype": "text/x-python",
   "name": "python",
   "nbconvert_exporter": "python",
   "pygments_lexer": "ipython3",
   "version": "3.9.0"
  },
  "orig_nbformat": 4,
  "vscode": {
   "interpreter": {
    "hash": "41f4603e9ae2ea2a4ec02893be2c0f3b30baca65be1064668a2659ea9f4f6da5"
   }
  }
 },
 "nbformat": 4,
 "nbformat_minor": 2
}
