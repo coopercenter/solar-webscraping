{
 "cells": [
  {
   "cell_type": "code",
   "execution_count": 1,
   "metadata": {},
   "outputs": [
    {
     "data": {
      "text/plain": [
       "'Firefox Version'"
      ]
     },
     "execution_count": 1,
     "metadata": {},
     "output_type": "execute_result"
    }
   ],
   "source": [
    "\"\"\"Package Loading\"\"\"\n",
    "\"\"\"General\"\"\"\n",
    "from webscraping_dictionaries import *\n",
    "from webscraping_functions import *\n",
    "import time\n",
    "from dateutil import relativedelta\n",
    "from datetime import datetime\n",
    "from selenium import webdriver\n",
    "from selenium.webdriver.common.by import By  \n",
    "import requests\n",
    "import smtplib\n",
    "from email.mime.text import MIMEText\n",
    "from email.mime.multipart import MIMEMultipart\n",
    "import ssl\n",
    "import os\n",
    "from dateparser.search import search_dates\n",
    "#import datefinder\n",
    "#import dotenv\n",
    "\"\"\"Chrome Options\"\"\"\n",
    "#from selenium.webdriver import Chrome \n",
    "#from selenium.webdriver.chrome.service import Service \n",
    "#from webdriver_manager.chrome import ChromeDriverManager\n",
    "\n",
    "\"\"\"Firefox Options\"\"\"\n",
    "#from selenium.webdriver import Firefox\n",
    "#from selenium.webdriver.firefox.service import Service\n",
    "#from webdriver_manager.firefox import GeckoDriverManager\n",
    "\n",
    "\n",
    "\"\"\"Initialize the driver\"\"\"\n",
    "\n",
    "\"\"\"Driver Setup\"\"\"\n",
    "\n",
    "#following steps from here: https://www.zenrows.com/blog/scraping-javascript-rendered-web-pages#installing-the-requirements\n",
    "#critical help using the click method from here https://www.geeksforgeeks.org/click-element-method-selenium-python/\n",
    "\n",
    "\"\"\"Chrome Version\"\"\"\n",
    "#options = webdriver.ChromeOptions()\n",
    "#options.headless = True\n",
    "#options.page_load_strategy = 'none' \n",
    "#chrome_path = ChromeDriverManager().install()\n",
    "#chrome_service = Service(chrome_path)\n",
    "#driver = Chrome(options=options, service=chrome_service) \n",
    "#driver.implicitly_wait(5)\n",
    "\n",
    "\"\"\"Firefox Version\"\"\"  \n",
    "#options = webdriver.FirefoxOptions()\n",
    "#options.headless = True\n",
    "#options.add_argument(\"--headless=new\")\n",
    "#options.page_load_strategy = 'none' \n",
    "#firefox_path = GeckoDriverManager().install() \n",
    "#firefox_service = Service(firefox_path)\n",
    "#driver = Firefox(options=options, service=firefox_service)\n",
    "#driver.implicitly_wait(5)"
   ]
  },
  {
   "cell_type": "markdown",
   "metadata": {},
   "source": [
    "\"\"\"DEBUGGING SANDBOX\"\"\""
   ]
  },
  {
   "cell_type": "code",
   "execution_count": null,
   "metadata": {},
   "outputs": [],
   "source": [
    "#table this for now, since we still want to check for comp plan and ordinance keywords anyway\n",
    "\"Charlotte County Solar Development Page\"\n",
    "def charlotte_county_solar_development():\n",
    "    driver.get(\"https://www.charlottecountyva.gov/departments/planning___zoning/solar_development.php\")\n",
    "    time.sleep(1)\n",
    "    table_rows = driver.find_elements(By.CSS_SELECTOR,\"tr\")\n",
    "    "
   ]
  },
  {
   "cell_type": "code",
   "execution_count": null,
   "metadata": {},
   "outputs": [],
   "source": [
    "from webscraping_dictionaries import *\n",
    "from webscraping_functions import *\n",
    "New_Alerts = []\n",
    "\n",
    "\"Run all the webscraping functions, single thread version\"\n",
    "for item in agendacenter_dictionary:\n",
    "    try:\n",
    "        alert = agendacenter(agendacenter_dictionary[item][0],agendacenter_dictionary[item][1])\n",
    "        if alert != []:\n",
    "            New_Alerts.append(\", \\n \".join(alert))\n",
    "    except:\n",
    "        error_alert = \"Error webscraping \" + item + \" using AgendaCenter code.\"\n",
    "        New_Alerts.append(error_alert)\n",
    "        continue\n",
    "            \n",
    "for item in boarddocs_dictionary:\n",
    "    try:\n",
    "        alert = boarddocs(boarddocs_dictionary[item][0],boarddocs_dictionary[item][1],boarddocs_dictionary[item][2])\n",
    "        if alert != []:\n",
    "            New_Alerts.append(\", \\n \".join(alert))\n",
    "    except:\n",
    "        error_alert = \"Error webscraping \" + item + \" using BoardDocs code.\"\n",
    "        New_Alerts.append(\"\\n\" + error_alert)\n",
    "        continue\n",
    "\n",
    "for item in civicclerk_dictionary:\n",
    "    try:\n",
    "        alert=civicclerk(civicclerk_dictionary[item][0],civicclerk_dictionary[item][1])\n",
    "        if alert != []:\n",
    "            New_Alerts.append(\", \\n \".join(alert))\n",
    "    except:\n",
    "        error_alert=\"Error webscraping \" + item + \" using CivicClerk code\"\n",
    "        New_Alerts.append(error_alert)\n",
    "        continue\n",
    "        \n",
    "for item in civicweb_dictionary:\n",
    "    try:\n",
    "        alert=civicweb(civicweb_dictionary[item][0],civicweb_dictionary[item][1])\n",
    "        if alert != []:\n",
    "            New_Alerts.append(\", \\n \".join(alert))\n",
    "    except:\n",
    "        error_alert=\"Error webscraping \" + item + \" using CivicWeb code\"\n",
    "        New_Alerts.append(error_alert)\n",
    "        continue\n",
    "        \n",
    "for item in document_center_dictionary:\n",
    "    try:\n",
    "        alert=document_center(document_center_dictionary[item][0],document_center_dictionary[item][1])\n",
    "        if alert != []:\n",
    "            New_Alerts.append(\", \\n \".join(alert))\n",
    "    except:\n",
    "        error_alert=\"Error webscraping \" + item + \" using Document Center code\"\n",
    "        New_Alerts.append(error_alert)\n",
    "        continue\n",
    "\n",
    "for item in escribe_dictionary:\n",
    "    try:\n",
    "        alert=escribe(escribe_dictionary[item][0],escribe_dictionary[item][1])\n",
    "        if alert != []:\n",
    "            New_Alerts.append(\", \\n \".join(alert))\n",
    "    except:\n",
    "        error_alert=\"Error webscraping \" + item + \" using EScribe code\"\n",
    "        New_Alerts.append(error_alert)\n",
    "        continue\n",
    "\n",
    "for item in granicus_dictionary:\n",
    "    try:\n",
    "        alert = granicus(granicus_dictionary[item][0],granicus_dictionary[item][1])\n",
    "        if alert != []:\n",
    "            New_Alerts.append(\", \\n \".join(alert))\n",
    "    except:\n",
    "        error_alert = \"Error webscraping \" + item + \" using Granicus code\"\n",
    "        New_Alerts.append(error_alert)\n",
    "        continue\n",
    "        \n",
    "for item in granicus_2_dictionary:\n",
    "    try:\n",
    "        alert = granicus_version_2(granicus_2_dictionary[item][0],granicus_2_dictionary[item][1])\n",
    "        if alert != []:\n",
    "            New_Alerts.append(\", \\n \".join(alert))\n",
    "    except:\n",
    "        error_alert = \"Error webscraping \" + item + \" using Granicus Version 2 code\"\n",
    "        New_Alerts.append(error_alert)\n",
    "        continue\n",
    "\n",
    "for item in laserfiche_dictionary:\n",
    "    try:\n",
    "        alert=laserfiche(laserfiche_dictionary[item][0],laserfiche_dictionary[item][1])\n",
    "        if alert != []:\n",
    "            New_Alerts.append(\", \\n \".join(alert))\n",
    "    except:\n",
    "        error_alert=\"Error webscraping \" + item + \" using LaserFiche code\"\n",
    "        New_Alerts.append(error_alert)\n",
    "        continue\n",
    "\n",
    "for item in legistar_dictionary:\n",
    "    try:\n",
    "        alert=legistar(legistar_dictionary[item][0],legistar_dictionary[item][1])\n",
    "        if alert != []:\n",
    "            New_Alerts.append(\", \\n \".join(alert))\n",
    "    except:\n",
    "        error_alert=\"Error webscraping \" + item + \" using Legistar code\"\n",
    "        New_Alerts.append(error_alert)\n",
    "        continue\n",
    "\n",
    "for item in meetingstable_dictionary:\n",
    "    try:\n",
    "        alert=meetings_table(meetingstable_dictionary[item][0],meetingstable_dictionary[item][1])\n",
    "        if alert != []:\n",
    "            New_Alerts.append(\", \\n \".join(alert))\n",
    "    except:\n",
    "        error_alert=\"Error webscraping \" + item + \" using MeetingsTable code\"\n",
    "        New_Alerts.append(error_alert)\n",
    "        continue\n",
    "\n",
    "for item in novusagenda_dictionary:\n",
    "    try:\n",
    "        alert=novusagenda(novusagenda_dictionary[item][0],novusagenda_dictionary[item][1])\n",
    "        if alert != []:\n",
    "            New_Alerts.append(\", \\n \".join(alert))\n",
    "    except:\n",
    "        error_alert=\"Error webscraping \" + item + \" using NovusAGENDA code\"\n",
    "        New_Alerts.append(error_alert)\n",
    "        continue\n",
    "\n",
    "for item in onbase_dictionary:\n",
    "    try:\n",
    "        alert=onbase(onbase_dictionary[item][0],onbase_dictionary[item][1])\n",
    "        if alert != []:\n",
    "            New_Alerts.append(\", \\n \".join(alert))\n",
    "    except:\n",
    "        error_alert=\"Error webscraping \" + item + \" using OnBase code\"\n",
    "        New_Alerts.append(error_alert)\n",
    "        continue\n",
    "\n",
    "for item in primegov_dictionary:\n",
    "    try:\n",
    "        alert=prime_gov(primegov_dictionary[item][0],primegov_dictionary[item][1])\n",
    "        if alert != []:\n",
    "            New_Alerts.append(\", \\n \".join(alert))\n",
    "    except:\n",
    "        error_alert=\"Error webscraping \" + item + \" using PrimeGov code\"\n",
    "        New_Alerts.append(error_alert)\n",
    "        continue\n",
    "\n",
    "for item in php_table_dictionary:\n",
    "    try:\n",
    "        alert=php_table(php_table_dictionary[item][0],php_table_dictionary[item][1])\n",
    "        if alert != []:\n",
    "            New_Alerts.append(\", \\n \".join(alert))\n",
    "    except:\n",
    "        error_alert=\"Error webscraping \" + item + \" using PHP Table code\"\n",
    "        New_Alerts.append(error_alert)\n",
    "        continue\n",
    "\n",
    "for item in county_dictionary_single_variable:\n",
    "    try:\n",
    "        alert=county_dictionary_single_variable[item][0](county_dictionary_single_variable[item][1])\n",
    "        if alert != []:\n",
    "            New_Alerts.append(\", \\n \".join(alert))\n",
    "    except:\n",
    "        error_alert = \"Error webscraping \" + item\n",
    "        New_Alerts.append(error_alert)\n",
    "        continue\n",
    "\n",
    "for item in county_dictionary_double_variable:\n",
    "    try:\n",
    "        alert=county_dictionary_double_variable[item][0](county_dictionary_double_variable[item][1],county_dictionary_double_variable[item][2])\n",
    "        if alert != []:\n",
    "            New_Alerts.append(\", \\n \".join(alert))\n",
    "    except:\n",
    "        error_alert = \"Error webscraping \" + item\n",
    "        New_Alerts.append(error_alert)\n",
    "        continue\n",
    "\n",
    "for item in city_dictionary_single_variable:\n",
    "    try:\n",
    "        alert=city_dictionary_single_variable[item][0](city_dictionary_single_variable[item][1])\n",
    "        if alert != []:\n",
    "            New_Alerts.append(\", \\n \".join(alert))\n",
    "    except:\n",
    "        error_alert = \"Error webscraping \" + item\n",
    "        New_Alerts.append(error_alert)\n",
    "        continue\n",
    "\n",
    "for item in city_dictionary_double_variable:\n",
    "    try:\n",
    "        alert=city_dictionary_double_variable[item][0](city_dictionary_double_variable[item][1],city_dictionary_double_variable[item][2])\n",
    "        if alert != []:\n",
    "            New_Alerts.append(\", \\n \".join(alert))\n",
    "    except:\n",
    "        error_alert = \"Error webscraping \" + item\n",
    "        New_Alerts.append(error_alert)\n",
    "        continue"
   ]
  },
  {
   "cell_type": "code",
   "execution_count": 3,
   "metadata": {},
   "outputs": [
    {
     "name": "stdout",
     "output_type": "stream",
     "text": [
      "New meeting document available for King George County. Document cannot be scanned for keywords. https://www.kinggeorgecountyva.gov/AgendaCenter/ViewFile/Agenda/_12102024-1207\n",
      "Keyword(s) Zoning Ordinance found in upcoming meeting for Madison County. https://www.madisonco.virginia.gov/AgendaCenter/ViewFile/Agenda/_12172024-244\n",
      "Keyword(s) Zoning Ordinance, Comprehensive Plan found in upcoming meeting for Mecklenburg County. https://www.mecklenburgva.com/AgendaCenter/ViewFile/Agenda/_12092024-167\n",
      "Keyword(s) Zoning Ordinance found in upcoming meeting for Middlesex County. https://www.co.middlesex.va.us/AgendaCenter/ViewFile/Agenda/_12162024-590\n",
      "Keyword(s) Zoning Ordinance, Comprehensive Plan found in upcoming meeting for Page County. https://www.pagecounty.virginia.gov/AgendaCenter/ViewFile/Agenda/_12102024-961\n",
      "Keyword(s) Solar found in upcoming meeting for Russell County. https://va-russellcounty.civicplus.com/AgendaCenter/ViewFile/Agenda/_12092024-321\n",
      "Keyword(s) Comprehensive Plan found in upcoming meeting for Shenandoah County. https://shenandoahcountyva.us/AgendaCenter/ViewFile/Agenda/_12052024-476\n",
      "Keyword(s) Comprehensive Plan found in upcoming meeting for Town of Bedford. https://www.bedfordva.gov/AgendaCenter/ViewFile/Agenda/_12052024-396\n",
      "New meeting document available for City of Hopewell. Document cannot be scanned for keywords. https://hopewellva.gov/AgendaCenter/ViewFile/Agenda/_12102024-219?html=true\n",
      "Keyword(s) Zoning Ordinance found in upcoming meeting for Northampton County in Dec 10, 2024 (Tue)\n",
      "Regular Meeting of the Board of Supervisors of Northampton County, Va.. https://go.boarddocs.com/va/northco/Board.nsf/Public, \n",
      " Keyword(s) Zoning Ordinance found in upcoming meeting for Northampton County in Dec 17, 2024 (Tue)\n",
      "Regular Meeting of the Planning Commission of Northampton County VA. https://go.boarddocs.com/va/northco/Board.nsf/Public\n",
      "Keyword(s) Zoning Ordinance found in upcoming meeting for Appomattox County. https://appomattoxcova.portal.civicclerk.com/event/344/files\n",
      "Keyword(s) Solar found in upcoming meeting for Charles City County. https://charlescitycova.portal.civicclerk.com/event/162/files, \n",
      " Keyword(s) Solar, Zoning Ordinance found in upcoming meeting for Charles City County. https://charlescitycova.portal.civicclerk.com/event/163/files\n",
      "Keyword(s) Comprehensive Plan found in upcoming meeting for Chesterfield County. https://chesterfieldcova.portal.civicclerk.com/event/1048/files, \n",
      " Keyword(s) Comprehensive Plan, Zoning Ordinance found in upcoming meeting for Chesterfield County. https://chesterfieldcova.portal.civicclerk.com/event/1023/files, \n",
      " Keyword(s) Comprehensive Plan found in upcoming meeting for Chesterfield County. https://chesterfieldcova.portal.civicclerk.com/event/1049/files, \n",
      " Keyword(s) Zoning Ordinance, Comprehensive Plan found in upcoming meeting for Chesterfield County. https://chesterfieldcova.portal.civicclerk.com/event/1024/files\n",
      "Keyword(s) Zoning Ordinance found in upcoming meeting for James City County. https://jamescitycova.portal.civicclerk.com/event/1181/files, \n",
      " Keyword(s) Solar found in upcoming meeting for James City County. https://jamescitycova.portal.civicclerk.com/event/1301/files\n",
      "Keyword(s) Solar, Zoning Ordinance found in upcoming meeting for King William County. https://kingwilliamcova.portal.civicclerk.com/event/975/files\n",
      "Keyword(s) Zoning Ordinance found in upcoming meeting for Louisa County. https://louisacova.portal.civicclerk.com/event/971/files, \n",
      " Keyword(s) Solar found in upcoming meeting for Louisa County. https://louisacova.portal.civicclerk.com/event/860/files, \n",
      " Keyword(s) Solar, Zoning Ordinance, Comprehensive Plan found in upcoming meeting for Louisa County. https://louisacova.portal.civicclerk.com/event/972/files\n",
      "Keyword(s) Zoning Ordinance, Comprehensive Plan, Solar found in upcoming meeting for Orange County. https://orangecova.portal.civicclerk.com/event/396/files, \n",
      " Keyword(s) Zoning Ordinance, Comprehensive Plan, Solar found in upcoming meeting for Orange County. https://orangecova.portal.civicclerk.com/event/366/files\n",
      "Keyword(s) Solar, Zoning Ordinance, Comprehensive Plan found in upcoming meeting for Scott County. https://scottcova.portal.civicclerk.com/event/11/files, \n",
      " Keyword(s) Solar, Zoning Ordinance found in upcoming meeting for Scott County. https://scottcova.portal.civicclerk.com/event/12/files, \n",
      " Keyword(s) Comprehensive Plan found in upcoming meeting for Scott County. https://scottcova.portal.civicclerk.com/event/209/files\n",
      "Keyword(s) Solar, Zoning Ordinance, Comprehensive Plan found in upcoming meeting for Surry County. https://surrycova.portal.civicclerk.com/event/268/files, \n",
      " Keyword(s) Zoning Ordinance found in upcoming meeting for Surry County. https://surrycova.portal.civicclerk.com/event/258/files\n",
      "Error webscraping City of Richmond using Legistar code\n",
      "Keyword(s) Solar found in upcoming meeting for Buckingham County Board of Supervisors. https://www.buckinghamcountyva.org/December%209,%202024%20BOS%20Agenda.pdf\n",
      "Error webscraping Bland County\n",
      "Keyword(s) Comprehensive Plan found in upcoming meeting for Clarke County. https://www.clarkecounty.gov/home/showpublisheddocument/13053/638681327963500000\n",
      "New meeting agenda available for Craig County Board of Supervisors. Document cannot be scanned for keywords. https://craigcountyva.gov/government/board-of-supervisors/december-5th-2024-agenda-and-packet-2/\n",
      "Error webscraping Fairfax County Planning Commission\n",
      "Keyword(s) Zoning Ordinance, Comprehensive Plan found in upcoming meeting for Henrico County in the latest Planning Commission/Board of Zoning Appeals agenda. https://henrico.gov/pdfs/planning/meetnext.pdf\n",
      "Keyword(s) Comprehensive Plan found in upcoming meeting for Lunenburg County. https://www.lunenburgva.gov/PC%20agenda%2012.5.24.pdf\n",
      "Error webscraping New Kent County Planning Commission\n",
      "New meeting againda available for Greensville County Planning Commission. Document cannot be scanned for keywords. https://www.greensvillecountyva.gov/Planning%20Commission%20Agenda%20-%2012102024.pdf\n",
      "Error webscraping Tazewell County Planning Commission\n",
      "Error webscraping Virginia Beach City Council\n"
     ]
    }
   ],
   "source": [
    "for item in New_Alerts:\n",
    "    print(item)"
   ]
  },
  {
   "cell_type": "code",
   "execution_count": 4,
   "metadata": {},
   "outputs": [],
   "source": [
    "#empty list \n",
    "Solar_Alerts = []\n",
    "Error_Alerts = []\n",
    "Unreadable_File_Alerts = []\n",
    "Other_Alerts = []\n",
    "\n",
    "#loop that checks if the word in the meeting agenda is in the list of keywords...if that happens, append to empty list\n",
    "for message in New_Alerts:\n",
    "    if \"Solar\" in message:\n",
    "        Solar_Alerts.append(message)\n",
    "    elif \"Error\" in message or \"Not Reachable\" in message:\n",
    "        Error_Alerts.append(message)\n",
    "    elif \"scanned\" in message:\n",
    "        Unreadable_File_Alerts.append(message)\n",
    "    else:\n",
    "        Other_Alerts.append(message)\n",
    "\n",
    "# Convert categorized alerts to strings\n",
    "solar_alerts_str = \", \\n\".join(Solar_Alerts)\n",
    "error_alerts_str = \", \\n\".join(Error_Alerts)\n",
    "unread_alerts_str = \", \\n\".join(Unreadable_File_Alerts)\n",
    "other_alerts_str = \", \\n\".join(Other_Alerts)\n"
   ]
  },
  {
   "cell_type": "code",
   "execution_count": 5,
   "metadata": {},
   "outputs": [],
   "source": [
    "alerts = (\"Solar Alerts:\\n\" + solar_alerts_str + \"\\n\\nUnreadable Alerts: \\n\" + unread_alerts_str + \"\\n\\nError Alerts:\\n\" + error_alerts_str + \"\\n\\nOther Alerts:\\n\" + other_alerts_str)"
   ]
  },
  {
   "cell_type": "code",
   "execution_count": 6,
   "metadata": {},
   "outputs": [
    {
     "name": "stdout",
     "output_type": "stream",
     "text": [
      "Solar Alerts:\n",
      "Keyword(s) Solar found in upcoming meeting for Russell County. https://va-russellcounty.civicplus.com/AgendaCenter/ViewFile/Agenda/_12092024-321, \n",
      "Keyword(s) Solar found in upcoming meeting for Charles City County. https://charlescitycova.portal.civicclerk.com/event/162/files, \n",
      " Keyword(s) Solar, Zoning Ordinance found in upcoming meeting for Charles City County. https://charlescitycova.portal.civicclerk.com/event/163/files, \n",
      "Keyword(s) Zoning Ordinance found in upcoming meeting for James City County. https://jamescitycova.portal.civicclerk.com/event/1181/files, \n",
      " Keyword(s) Solar found in upcoming meeting for James City County. https://jamescitycova.portal.civicclerk.com/event/1301/files, \n",
      "Keyword(s) Solar, Zoning Ordinance found in upcoming meeting for King William County. https://kingwilliamcova.portal.civicclerk.com/event/975/files, \n",
      "Keyword(s) Zoning Ordinance found in upcoming meeting for Louisa County. https://louisacova.portal.civicclerk.com/event/971/files, \n",
      " Keyword(s) Solar found in upcoming meeting for Louisa County. https://louisacova.portal.civicclerk.com/event/860/files, \n",
      " Keyword(s) Solar, Zoning Ordinance, Comprehensive Plan found in upcoming meeting for Louisa County. https://louisacova.portal.civicclerk.com/event/972/files, \n",
      "Keyword(s) Zoning Ordinance, Comprehensive Plan, Solar found in upcoming meeting for Orange County. https://orangecova.portal.civicclerk.com/event/396/files, \n",
      " Keyword(s) Zoning Ordinance, Comprehensive Plan, Solar found in upcoming meeting for Orange County. https://orangecova.portal.civicclerk.com/event/366/files, \n",
      "Keyword(s) Solar, Zoning Ordinance, Comprehensive Plan found in upcoming meeting for Scott County. https://scottcova.portal.civicclerk.com/event/11/files, \n",
      " Keyword(s) Solar, Zoning Ordinance found in upcoming meeting for Scott County. https://scottcova.portal.civicclerk.com/event/12/files, \n",
      " Keyword(s) Comprehensive Plan found in upcoming meeting for Scott County. https://scottcova.portal.civicclerk.com/event/209/files, \n",
      "Keyword(s) Solar, Zoning Ordinance, Comprehensive Plan found in upcoming meeting for Surry County. https://surrycova.portal.civicclerk.com/event/268/files, \n",
      " Keyword(s) Zoning Ordinance found in upcoming meeting for Surry County. https://surrycova.portal.civicclerk.com/event/258/files, \n",
      "Keyword(s) Solar found in upcoming meeting for Buckingham County Board of Supervisors. https://www.buckinghamcountyva.org/December%209,%202024%20BOS%20Agenda.pdf\n",
      "\n",
      "Unreadable Alerts: \n",
      "New meeting document available for King George County. Document cannot be scanned for keywords. https://www.kinggeorgecountyva.gov/AgendaCenter/ViewFile/Agenda/_12102024-1207, \n",
      "New meeting document available for City of Hopewell. Document cannot be scanned for keywords. https://hopewellva.gov/AgendaCenter/ViewFile/Agenda/_12102024-219?html=true, \n",
      "New meeting agenda available for Craig County Board of Supervisors. Document cannot be scanned for keywords. https://craigcountyva.gov/government/board-of-supervisors/december-5th-2024-agenda-and-packet-2/, \n",
      "New meeting againda available for Greensville County Planning Commission. Document cannot be scanned for keywords. https://www.greensvillecountyva.gov/Planning%20Commission%20Agenda%20-%2012102024.pdf\n",
      "\n",
      "Error Alerts:\n",
      "Error webscraping City of Richmond using Legistar code, \n",
      "Error webscraping Bland County, \n",
      "Error webscraping Fairfax County Planning Commission, \n",
      "Error webscraping New Kent County Planning Commission, \n",
      "Error webscraping Tazewell County Planning Commission, \n",
      "Error webscraping Virginia Beach City Council\n",
      "\n",
      "Other Alerts:\n",
      "Keyword(s) Zoning Ordinance found in upcoming meeting for Madison County. https://www.madisonco.virginia.gov/AgendaCenter/ViewFile/Agenda/_12172024-244, \n",
      "Keyword(s) Zoning Ordinance, Comprehensive Plan found in upcoming meeting for Mecklenburg County. https://www.mecklenburgva.com/AgendaCenter/ViewFile/Agenda/_12092024-167, \n",
      "Keyword(s) Zoning Ordinance found in upcoming meeting for Middlesex County. https://www.co.middlesex.va.us/AgendaCenter/ViewFile/Agenda/_12162024-590, \n",
      "Keyword(s) Zoning Ordinance, Comprehensive Plan found in upcoming meeting for Page County. https://www.pagecounty.virginia.gov/AgendaCenter/ViewFile/Agenda/_12102024-961, \n",
      "Keyword(s) Comprehensive Plan found in upcoming meeting for Shenandoah County. https://shenandoahcountyva.us/AgendaCenter/ViewFile/Agenda/_12052024-476, \n",
      "Keyword(s) Comprehensive Plan found in upcoming meeting for Town of Bedford. https://www.bedfordva.gov/AgendaCenter/ViewFile/Agenda/_12052024-396, \n",
      "Keyword(s) Zoning Ordinance found in upcoming meeting for Northampton County in Dec 10, 2024 (Tue)\n",
      "Regular Meeting of the Board of Supervisors of Northampton County, Va.. https://go.boarddocs.com/va/northco/Board.nsf/Public, \n",
      " Keyword(s) Zoning Ordinance found in upcoming meeting for Northampton County in Dec 17, 2024 (Tue)\n",
      "Regular Meeting of the Planning Commission of Northampton County VA. https://go.boarddocs.com/va/northco/Board.nsf/Public, \n",
      "Keyword(s) Zoning Ordinance found in upcoming meeting for Appomattox County. https://appomattoxcova.portal.civicclerk.com/event/344/files, \n",
      "Keyword(s) Comprehensive Plan found in upcoming meeting for Chesterfield County. https://chesterfieldcova.portal.civicclerk.com/event/1048/files, \n",
      " Keyword(s) Comprehensive Plan, Zoning Ordinance found in upcoming meeting for Chesterfield County. https://chesterfieldcova.portal.civicclerk.com/event/1023/files, \n",
      " Keyword(s) Comprehensive Plan found in upcoming meeting for Chesterfield County. https://chesterfieldcova.portal.civicclerk.com/event/1049/files, \n",
      " Keyword(s) Zoning Ordinance, Comprehensive Plan found in upcoming meeting for Chesterfield County. https://chesterfieldcova.portal.civicclerk.com/event/1024/files, \n",
      "Keyword(s) Comprehensive Plan found in upcoming meeting for Clarke County. https://www.clarkecounty.gov/home/showpublisheddocument/13053/638681327963500000, \n",
      "Keyword(s) Zoning Ordinance, Comprehensive Plan found in upcoming meeting for Henrico County in the latest Planning Commission/Board of Zoning Appeals agenda. https://henrico.gov/pdfs/planning/meetnext.pdf, \n",
      "Keyword(s) Comprehensive Plan found in upcoming meeting for Lunenburg County. https://www.lunenburgva.gov/PC%20agenda%2012.5.24.pdf\n"
     ]
    }
   ],
   "source": [
    "print(alerts)"
   ]
  },
  {
   "cell_type": "code",
   "execution_count": null,
   "metadata": {},
   "outputs": [],
   "source": [
    "#come back to this another day\n",
    "all_dictionaries=[agendacenter_dictionary,boarddocs_dictionary,civicclerk_dictionary,civicweb_dictionary,document_center_dictionary,escribe_dictionary,granicus_dictionary,granicus_2_dictionary,laserfiche_dictionary,legistar_dictionary,meetingstable_dictionary,novusagenda_dictionary,php_table_dictionary,primegov_dictionary,county_dictionary_single_variable,county_dictionary_double_variable,city_dictionary_single_variable,city_dictionary_double_variable]\n",
    "\n",
    "for dictionary in all_dictionaries:\n",
    "    for entry in dictionary:\n",
    "        print(entry)"
   ]
  },
  {
   "cell_type": "code",
   "execution_count": null,
   "metadata": {},
   "outputs": [],
   "source": [
    "#reconfiguring how the scraping methods work\n",
    "#leverage object oriented programming and the possibilities of functions\n",
    "#currently, each website has its own custom function, and the repeated document sharing websites have their own customized function as well\n",
    "#few repeated functions despite potential for more, and for better generalization\n",
    "#inconsistent methodoloy that evolved over time as I kept remaking the functions from scratch\n",
    "#potential to take the common steps and turn those into functions rather than having them rewritten dozens of times\n",
    "#opportunities to keep optimizing"
   ]
  },
  {
   "cell_type": "code",
   "execution_count": 2,
   "metadata": {},
   "outputs": [],
   "source": [
    "\"\"\"AgendaCenter\"\"\"\n",
    "def agendacenter(url,locality):\n",
    "    driver.get(url)\n",
    "    messages = []\n",
    "    #table_rows = WebDriverWait(driver,20).until(EC.visibility_of_all_elements_located((By.CSS_SELECTOR, \"tr[class*=catAgendaRow\")))\n",
    "    time.sleep(5)\n",
    "    table_rows = driver.find_elements(By.CSS_SELECTOR, \"tr[class*=catAgendaRow\")\n",
    "    future_meetings = []\n",
    "    for item in table_rows:\n",
    "        try:\n",
    "            if check_meeting_date(item.text.split(\"\\u2009\")[0]) ==True:\n",
    "                future_meetings.append(item)\n",
    "        except:\n",
    "            if check_meeting_date(item.text.split(\"\\n\")[0])==True:\n",
    "                future_meetings.append(item)\n",
    "    agenda_links = [item.find_elements(By.CSS_SELECTOR,\"a\")[1].get_attribute(\"href\") for item in future_meetings]\n",
    "    for item in agenda_links:\n",
    "        driver.get(item)\n",
    "        time.sleep(20)\n",
    "        agenda_content = driver.find_elements(By.CSS_SELECTOR, \"div[class*=textLayer\")\n",
    "        #agenda_content = WebDriverWait(driver,20).until(EC.visibility_of_all_elements_located((By.CSS_SELECTOR, \"div[class*=textLayer\")))\n",
    "        if agenda_content == []:\n",
    "            agenda_content = driver.find_elements(By.CSS_SELECTOR, \"div[id*='divInner'\")\n",
    "            #agenda_content = WebDriverWait(driver,20).until(EC.visibility_of_all_elements_located((By.CSS_SELECTOR, \"div[id*='divInner'\")))\n",
    "        readable = check_readability(agenda_content)\n",
    "        if readable==True:\n",
    "            agenda_search = search_agenda_for_keywords(agenda_content)\n",
    "            if agenda_search != []:\n",
    "                messages.append(\"Keyword(s) \" + \", \".join(agenda_search) + \" found in upcoming meeting for \" + locality + \". \" + item)\n",
    "        elif readable==False:\n",
    "            messages.append(\"New meeting document available for \" + locality + \". Document cannot be scanned for keywords. \" + item)\n",
    "    return messages"
   ]
  },
  {
   "cell_type": "code",
   "execution_count": 19,
   "metadata": {},
   "outputs": [],
   "source": [
    "driver.get(\"https://www.yorkcounty.gov/AgendaCenter/Search/?term=&CIDs=4,3,&startDate=&endDate=&dateRange=&dateSelector=\")"
   ]
  },
  {
   "cell_type": "code",
   "execution_count": 20,
   "metadata": {},
   "outputs": [],
   "source": [
    "table_rows = driver.find_elements(By.CSS_SELECTOR, \"tr[class*=catAgendaRow\")"
   ]
  },
  {
   "cell_type": "code",
   "execution_count": 21,
   "metadata": {},
   "outputs": [
    {
     "data": {
      "text/plain": [
       "'Dec 3, 2024\\nBoard of Supervisors Meeting Agenda - December 3, 2024\\nDownload ▼'"
      ]
     },
     "execution_count": 21,
     "metadata": {},
     "output_type": "execute_result"
    }
   ],
   "source": [
    "table_rows[0].text"
   ]
  },
  {
   "cell_type": "code",
   "execution_count": 22,
   "metadata": {},
   "outputs": [
    {
     "data": {
      "text/plain": [
       "False"
      ]
     },
     "execution_count": 22,
     "metadata": {},
     "output_type": "execute_result"
    }
   ],
   "source": [
    "check_meeting_date(search_dates(table_rows[0].text)[0][0])"
   ]
  },
  {
   "cell_type": "code",
   "execution_count": 23,
   "metadata": {},
   "outputs": [],
   "source": [
    "future_meetings = [item for item in table_rows if check_meeting_date(search_dates(item.text)[0][0])==True]"
   ]
  },
  {
   "cell_type": "code",
   "execution_count": 24,
   "metadata": {},
   "outputs": [],
   "source": [
    "agenda_links = [item.find_elements(By.CSS_SELECTOR,\"a\")[1].get_attribute(\"href\") for item in future_meetings]"
   ]
  },
  {
   "cell_type": "code",
   "execution_count": 25,
   "metadata": {},
   "outputs": [
    {
     "data": {
      "text/plain": [
       "[]"
      ]
     },
     "execution_count": 25,
     "metadata": {},
     "output_type": "execute_result"
    }
   ],
   "source": [
    "agenda_links"
   ]
  },
  {
   "cell_type": "code",
   "execution_count": 26,
   "metadata": {},
   "outputs": [
    {
     "data": {
      "text/plain": [
       "['Keyword(s) Zoning Ordinance found in upcoming meeting for York County. https://www.yorkcounty.gov/AgendaCenter/ViewFile/Agenda/_12032024-1138']"
      ]
     },
     "execution_count": 26,
     "metadata": {},
     "output_type": "execute_result"
    }
   ],
   "source": [
    "search_pdf([\"https://www.yorkcounty.gov/AgendaCenter/ViewFile/Agenda/_12032024-1138\"],\"York County\")"
   ]
  },
  {
   "cell_type": "code",
   "execution_count": 2,
   "metadata": {},
   "outputs": [
    {
     "data": {
      "text/plain": [
       "''"
      ]
     },
     "execution_count": 2,
     "metadata": {},
     "output_type": "execute_result"
    }
   ],
   "source": [
    "#AgendaCenter Strategy:\n",
    "\"\"\"\n",
    "* = I should make this a function\n",
    "\n",
    "1: *navigate to the locality archives url\n",
    "2: *wait for the page to load enough for the desired content to appear\n",
    "3: create the empty messages list\n",
    "4: locate the rows of meeting titles\n",
    "5: filter for meetings happening in the future\n",
    "    5a: two common string formats with AgendaCenter, need to split the date string or it throws an error (search for a package or class or function that does this automatically)\n",
    "6: collect the links for the agendas for future meetings out of the meeting information rows\n",
    "7: go through each agenda link \n",
    "    7a: *navigate to the agenda url\n",
    "    7b: *wait for the content to load\n",
    "    7c: collect the content tags (the page-by-page PDF search for content that loads on scroll should be part of this)\n",
    "        7c1: if the textLayer tag doesn't exist, it's probably a web page not a PDF, and collect this commonly used webpage content tag instead\n",
    "    7d: for a PDF, check that there is text in the content tags, otherwise it's likely an unsearchable scan\n",
    "        7d1: if there is text in the content tags, search the text for the specified keywords\n",
    "        7d2: if the search result is not empty, add an alert message and provide the agenda url\n",
    "    7e: if there is no text in the content tags, provide an \"unreadable\" messaage and a link to the agenda for manual review\n",
    "8: return any alert messages\n",
    "\"\"\"\n",
    "\n",
    "\n"
   ]
  },
  {
   "cell_type": "code",
   "execution_count": null,
   "metadata": {},
   "outputs": [],
   "source": []
  }
 ],
 "metadata": {
  "kernelspec": {
   "display_name": "Python 3",
   "language": "python",
   "name": "python3"
  },
  "language_info": {
   "codemirror_mode": {
    "name": "ipython",
    "version": 3
   },
   "file_extension": ".py",
   "mimetype": "text/x-python",
   "name": "python",
   "nbconvert_exporter": "python",
   "pygments_lexer": "ipython3",
   "version": "3.12.2"
  },
  "orig_nbformat": 4,
  "vscode": {
   "interpreter": {
    "hash": "41f4603e9ae2ea2a4ec02893be2c0f3b30baca65be1064668a2659ea9f4f6da5"
   }
  }
 },
 "nbformat": 4,
 "nbformat_minor": 2
}
